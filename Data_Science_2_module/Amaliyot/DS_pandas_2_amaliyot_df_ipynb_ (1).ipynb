{
  "nbformat": 4,
  "nbformat_minor": 0,
  "metadata": {
    "colab": {
      "name": "Копия блокнота \"DS_pandas_2_amaliyot_df.ipynb\"",
      "provenance": [],
      "collapsed_sections": []
    },
    "kernelspec": {
      "display_name": "Python 3",
      "language": "python",
      "name": "python3"
    },
    "language_info": {
      "codemirror_mode": {
        "name": "ipython",
        "version": 3
      },
      "file_extension": ".py",
      "mimetype": "text/x-python",
      "name": "python",
      "nbconvert_exporter": "python",
      "pygments_lexer": "ipython3",
      "version": "3.8.8"
    }
  },
  "cells": [
    {
      "cell_type": "markdown",
      "metadata": {
        "id": "WyTfPJtEqH5C"
      },
      "source": [
        "# ![Imgur](https://i.imgur.com/5pXzCIu.png)\n",
        "\n",
        "# **DATA SCIENCE VA SUN'IY INTELLEKT PRAKTIKUM**\n",
        "\n",
        "## Ma'lumotlar tahlili. Pandas kutubxonasi.\n",
        "\n",
        "# **AMALIYOT**\n",
        "## DataFrame"
      ]
    },
    {
      "cell_type": "markdown",
      "metadata": {
        "id": "5dDQDo1kUIfj"
      },
      "source": [
        "# ![Imgur](https://i.imgur.com/Fgd43iK.png?1)\n",
        "\n",
        "# **Ushbu Javoblar toplami kimlargadir yordami tegsa Xursand bo'laman.**\n",
        "\n",
        "### Do'stlaringizga ham ulashing. \n",
        "### Balki ularga ham yordami tegib qolar"
      ]
    },
    {
      "cell_type": "markdown",
      "metadata": {
        "id": "FNLOb9yhxI0b"
      },
      "source": [
        "### **1-mashq**. `Pandas` kutubxonasini `pd`, `numpy` kutubxonasini `np` deb chaqirib oling"
      ]
    },
    {
      "cell_type": "code",
      "metadata": {
        "id": "GrbBfqRpxIFr"
      },
      "source": [
        "# Javobni shuyerga yozing\n",
        "import numpy as np\n",
        "import pandas as pd"
      ],
      "execution_count": null,
      "outputs": []
    },
    {
      "cell_type": "code",
      "metadata": {
        "cellView": "form",
        "code_folding": [
          0
        ],
        "id": "24df0gBjIppl"
      },
      "source": [
        "#@title **To'g'ri javob**\n",
        "import pandas as pd\n",
        "import numpy as np"
      ],
      "execution_count": null,
      "outputs": []
    },
    {
      "cell_type": "markdown",
      "metadata": {
        "id": "QJT0KIgcN79b"
      },
      "source": [
        "### **2-mashq.** Quyida ko'rsatilgan dataframeni yarating va `df` deb nomlang"
      ]
    },
    {
      "cell_type": "code",
      "metadata": {
        "code_folding": [],
        "id": "6WL4EWf3l7vL"
      },
      "source": [
        "# Javobni shuyerga yozing\n"
      ],
      "execution_count": null,
      "outputs": []
    },
    {
      "cell_type": "code",
      "metadata": {
        "code_folding": [
          0
        ],
        "id": "PD7qQQH9oA87",
        "colab": {
          "base_uri": "https://localhost:8080/",
          "height": 452
        },
        "outputId": "75479e10-7c39-40f4-9117-bd4d8a57bc44"
      },
      "source": [
        "# @title **To'g'ri javob**\n",
        "viloyatlar = [\n",
        "    \"Andijon viloyati\",\n",
        "    \"Buxoro viloyati\",\n",
        "    \"Fargona viloyati\",\n",
        "    \"Jizzax viloyati\",\n",
        "    \"Xorazm viloyati\",\n",
        "    \"Namangan viloyati\",\n",
        "    \"Navoiy viloyati\",\n",
        "    \"Qashqadaryo viloyati\",\n",
        "    \"Qoraqalpogʻiston Respublikasi\",\n",
        "    \"Samarqand viloyati\",\n",
        "    \"Sirdaryo viloyati\",\n",
        "    \"Surxondaryo viloyati\",\n",
        "    \"Toshkent viloyati\",\n",
        "]\n",
        "markazlar = [\n",
        "    \"Andijon shahri\",\n",
        "    \"Buxoro shahri\",\n",
        "    \"Fargona shahri\",\n",
        "    \"Jizzax shahri\",\n",
        "    \"Urganch shahri\",\n",
        "    \"Namangan shahri\",\n",
        "    \"Navoiy shahri\",\n",
        "    \"Qarshi shahri\",\n",
        "    \"Nukus shahri\",\n",
        "    \"Samarqand shahri\",\n",
        "    \"Guliston shahri\",\n",
        "    \"Termiz shahri\",\n",
        "    \"Nurafshon shahri\",\n",
        "]\n",
        "maydonlar = [\n",
        "    4200,\n",
        "    39400,\n",
        "    6800,\n",
        "    20500,\n",
        "    6300,\n",
        "    7900,\n",
        "    110800,\n",
        "    28400,\n",
        "    160000,\n",
        "    16400,\n",
        "    5100,\n",
        "    20800,\n",
        "    15300,\n",
        "]\n",
        "aholi = [\n",
        "    1899000,\n",
        "    1384700,\n",
        "    2597000,\n",
        "    910500,\n",
        "    1200000,\n",
        "    1862000,\n",
        "    767500,\n",
        "    2029000,\n",
        "    1200000,\n",
        "    2322000,\n",
        "    648100,\n",
        "    1676000,\n",
        "    4450000,\n",
        "]\n",
        "data = {\n",
        "    \"Hudud\":viloyatlar,\n",
        "    \"Markaz\":markazlar,\n",
        "    \"Maydoni\":maydonlar,\n",
        "    \"Aholisi\":aholi\n",
        "}\n"
      ],
      "execution_count": null,
      "outputs": [
        {
          "output_type": "execute_result",
          "data": {
            "text/html": [
              "<div>\n",
              "<style scoped>\n",
              "    .dataframe tbody tr th:only-of-type {\n",
              "        vertical-align: middle;\n",
              "    }\n",
              "\n",
              "    .dataframe tbody tr th {\n",
              "        vertical-align: top;\n",
              "    }\n",
              "\n",
              "    .dataframe thead th {\n",
              "        text-align: right;\n",
              "    }\n",
              "</style>\n",
              "<table border=\"1\" class=\"dataframe\">\n",
              "  <thead>\n",
              "    <tr style=\"text-align: right;\">\n",
              "      <th></th>\n",
              "      <th>Hudud</th>\n",
              "      <th>Markaz</th>\n",
              "      <th>Maydoni</th>\n",
              "      <th>Aholisi</th>\n",
              "    </tr>\n",
              "  </thead>\n",
              "  <tbody>\n",
              "    <tr>\n",
              "      <th>0</th>\n",
              "      <td>Andijon viloyati</td>\n",
              "      <td>Andijon shahri</td>\n",
              "      <td>4200</td>\n",
              "      <td>1899000</td>\n",
              "    </tr>\n",
              "    <tr>\n",
              "      <th>1</th>\n",
              "      <td>Buxoro viloyati</td>\n",
              "      <td>Buxoro shahri</td>\n",
              "      <td>39400</td>\n",
              "      <td>1384700</td>\n",
              "    </tr>\n",
              "    <tr>\n",
              "      <th>2</th>\n",
              "      <td>Fargona viloyati</td>\n",
              "      <td>Fargona shahri</td>\n",
              "      <td>6800</td>\n",
              "      <td>2597000</td>\n",
              "    </tr>\n",
              "    <tr>\n",
              "      <th>3</th>\n",
              "      <td>Jizzax viloyati</td>\n",
              "      <td>Jizzax shahri</td>\n",
              "      <td>20500</td>\n",
              "      <td>910500</td>\n",
              "    </tr>\n",
              "    <tr>\n",
              "      <th>4</th>\n",
              "      <td>Xorazm viloyati</td>\n",
              "      <td>Urganch shahri</td>\n",
              "      <td>6300</td>\n",
              "      <td>1200000</td>\n",
              "    </tr>\n",
              "    <tr>\n",
              "      <th>5</th>\n",
              "      <td>Namangan viloyati</td>\n",
              "      <td>Namangan shahri</td>\n",
              "      <td>7900</td>\n",
              "      <td>1862000</td>\n",
              "    </tr>\n",
              "    <tr>\n",
              "      <th>6</th>\n",
              "      <td>Navoiy viloyati</td>\n",
              "      <td>Navoiy shahri</td>\n",
              "      <td>110800</td>\n",
              "      <td>767500</td>\n",
              "    </tr>\n",
              "    <tr>\n",
              "      <th>7</th>\n",
              "      <td>Qashqadaryo viloyati</td>\n",
              "      <td>Qarshi shahri</td>\n",
              "      <td>28400</td>\n",
              "      <td>2029000</td>\n",
              "    </tr>\n",
              "    <tr>\n",
              "      <th>8</th>\n",
              "      <td>Qoraqalpogʻiston Respublikasi</td>\n",
              "      <td>Nukus shahri</td>\n",
              "      <td>160000</td>\n",
              "      <td>1200000</td>\n",
              "    </tr>\n",
              "    <tr>\n",
              "      <th>9</th>\n",
              "      <td>Samarqand viloyati</td>\n",
              "      <td>Samarqand shahri</td>\n",
              "      <td>16400</td>\n",
              "      <td>2322000</td>\n",
              "    </tr>\n",
              "    <tr>\n",
              "      <th>10</th>\n",
              "      <td>Sirdaryo viloyati</td>\n",
              "      <td>Guliston shahri</td>\n",
              "      <td>5100</td>\n",
              "      <td>648100</td>\n",
              "    </tr>\n",
              "    <tr>\n",
              "      <th>11</th>\n",
              "      <td>Surxondaryo viloyati</td>\n",
              "      <td>Termiz shahri</td>\n",
              "      <td>20800</td>\n",
              "      <td>1676000</td>\n",
              "    </tr>\n",
              "    <tr>\n",
              "      <th>12</th>\n",
              "      <td>Toshkent viloyati</td>\n",
              "      <td>Nurafshon shahri</td>\n",
              "      <td>15300</td>\n",
              "      <td>4450000</td>\n",
              "    </tr>\n",
              "  </tbody>\n",
              "</table>\n",
              "</div>"
            ],
            "text/plain": [
              "                            Hudud            Markaz  Maydoni  Aholisi\n",
              "0                Andijon viloyati    Andijon shahri     4200  1899000\n",
              "1                 Buxoro viloyati     Buxoro shahri    39400  1384700\n",
              "2                Fargona viloyati    Fargona shahri     6800  2597000\n",
              "3                 Jizzax viloyati     Jizzax shahri    20500   910500\n",
              "4                 Xorazm viloyati    Urganch shahri     6300  1200000\n",
              "5               Namangan viloyati   Namangan shahri     7900  1862000\n",
              "6                 Navoiy viloyati     Navoiy shahri   110800   767500\n",
              "7            Qashqadaryo viloyati     Qarshi shahri    28400  2029000\n",
              "8   Qoraqalpogʻiston Respublikasi      Nukus shahri   160000  1200000\n",
              "9              Samarqand viloyati  Samarqand shahri    16400  2322000\n",
              "10              Sirdaryo viloyati   Guliston shahri     5100   648100\n",
              "11           Surxondaryo viloyati     Termiz shahri    20800  1676000\n",
              "12              Toshkent viloyati  Nurafshon shahri    15300  4450000"
            ]
          },
          "metadata": {},
          "execution_count": 3
        }
      ]
    },
    {
      "cell_type": "code",
      "metadata": {
        "colab": {
          "base_uri": "https://localhost:8080/",
          "height": 452
        },
        "id": "sBoAbl_NTPQO",
        "outputId": "9f2ea8f3-319f-4761-afbd-2b91011b514c"
      },
      "source": [
        "df = pd.DataFrame(data)\n",
        "df"
      ],
      "execution_count": null,
      "outputs": [
        {
          "output_type": "execute_result",
          "data": {
            "text/html": [
              "<div>\n",
              "<style scoped>\n",
              "    .dataframe tbody tr th:only-of-type {\n",
              "        vertical-align: middle;\n",
              "    }\n",
              "\n",
              "    .dataframe tbody tr th {\n",
              "        vertical-align: top;\n",
              "    }\n",
              "\n",
              "    .dataframe thead th {\n",
              "        text-align: right;\n",
              "    }\n",
              "</style>\n",
              "<table border=\"1\" class=\"dataframe\">\n",
              "  <thead>\n",
              "    <tr style=\"text-align: right;\">\n",
              "      <th></th>\n",
              "      <th>Hudud</th>\n",
              "      <th>Markaz</th>\n",
              "      <th>Maydoni</th>\n",
              "      <th>Aholisi</th>\n",
              "    </tr>\n",
              "  </thead>\n",
              "  <tbody>\n",
              "    <tr>\n",
              "      <th>0</th>\n",
              "      <td>Andijon viloyati</td>\n",
              "      <td>Andijon shahri</td>\n",
              "      <td>4200</td>\n",
              "      <td>1899000</td>\n",
              "    </tr>\n",
              "    <tr>\n",
              "      <th>1</th>\n",
              "      <td>Buxoro viloyati</td>\n",
              "      <td>Buxoro shahri</td>\n",
              "      <td>39400</td>\n",
              "      <td>1384700</td>\n",
              "    </tr>\n",
              "    <tr>\n",
              "      <th>2</th>\n",
              "      <td>Fargona viloyati</td>\n",
              "      <td>Fargona shahri</td>\n",
              "      <td>6800</td>\n",
              "      <td>2597000</td>\n",
              "    </tr>\n",
              "    <tr>\n",
              "      <th>3</th>\n",
              "      <td>Jizzax viloyati</td>\n",
              "      <td>Jizzax shahri</td>\n",
              "      <td>20500</td>\n",
              "      <td>910500</td>\n",
              "    </tr>\n",
              "    <tr>\n",
              "      <th>4</th>\n",
              "      <td>Xorazm viloyati</td>\n",
              "      <td>Urganch shahri</td>\n",
              "      <td>6300</td>\n",
              "      <td>1200000</td>\n",
              "    </tr>\n",
              "    <tr>\n",
              "      <th>5</th>\n",
              "      <td>Namangan viloyati</td>\n",
              "      <td>Namangan shahri</td>\n",
              "      <td>7900</td>\n",
              "      <td>1862000</td>\n",
              "    </tr>\n",
              "    <tr>\n",
              "      <th>6</th>\n",
              "      <td>Navoiy viloyati</td>\n",
              "      <td>Navoiy shahri</td>\n",
              "      <td>110800</td>\n",
              "      <td>767500</td>\n",
              "    </tr>\n",
              "    <tr>\n",
              "      <th>7</th>\n",
              "      <td>Qashqadaryo viloyati</td>\n",
              "      <td>Qarshi shahri</td>\n",
              "      <td>28400</td>\n",
              "      <td>2029000</td>\n",
              "    </tr>\n",
              "    <tr>\n",
              "      <th>8</th>\n",
              "      <td>Qoraqalpogʻiston Respublikasi</td>\n",
              "      <td>Nukus shahri</td>\n",
              "      <td>160000</td>\n",
              "      <td>1200000</td>\n",
              "    </tr>\n",
              "    <tr>\n",
              "      <th>9</th>\n",
              "      <td>Samarqand viloyati</td>\n",
              "      <td>Samarqand shahri</td>\n",
              "      <td>16400</td>\n",
              "      <td>2322000</td>\n",
              "    </tr>\n",
              "    <tr>\n",
              "      <th>10</th>\n",
              "      <td>Sirdaryo viloyati</td>\n",
              "      <td>Guliston shahri</td>\n",
              "      <td>5100</td>\n",
              "      <td>648100</td>\n",
              "    </tr>\n",
              "    <tr>\n",
              "      <th>11</th>\n",
              "      <td>Surxondaryo viloyati</td>\n",
              "      <td>Termiz shahri</td>\n",
              "      <td>20800</td>\n",
              "      <td>1676000</td>\n",
              "    </tr>\n",
              "    <tr>\n",
              "      <th>12</th>\n",
              "      <td>Toshkent viloyati</td>\n",
              "      <td>Nurafshon shahri</td>\n",
              "      <td>15300</td>\n",
              "      <td>4450000</td>\n",
              "    </tr>\n",
              "  </tbody>\n",
              "</table>\n",
              "</div>"
            ],
            "text/plain": [
              "                            Hudud            Markaz  Maydoni  Aholisi\n",
              "0                Andijon viloyati    Andijon shahri     4200  1899000\n",
              "1                 Buxoro viloyati     Buxoro shahri    39400  1384700\n",
              "2                Fargona viloyati    Fargona shahri     6800  2597000\n",
              "3                 Jizzax viloyati     Jizzax shahri    20500   910500\n",
              "4                 Xorazm viloyati    Urganch shahri     6300  1200000\n",
              "5               Namangan viloyati   Namangan shahri     7900  1862000\n",
              "6                 Navoiy viloyati     Navoiy shahri   110800   767500\n",
              "7            Qashqadaryo viloyati     Qarshi shahri    28400  2029000\n",
              "8   Qoraqalpogʻiston Respublikasi      Nukus shahri   160000  1200000\n",
              "9              Samarqand viloyati  Samarqand shahri    16400  2322000\n",
              "10              Sirdaryo viloyati   Guliston shahri     5100   648100\n",
              "11           Surxondaryo viloyati     Termiz shahri    20800  1676000\n",
              "12              Toshkent viloyati  Nurafshon shahri    15300  4450000"
            ]
          },
          "metadata": {},
          "execution_count": 7
        }
      ]
    },
    {
      "cell_type": "markdown",
      "metadata": {
        "id": "JtD7gzX2Sk6w"
      },
      "source": [
        "### **2-mashq.** Yuqoridagi df ning yuqorisidan 5 ta qator chiqaring"
      ]
    },
    {
      "cell_type": "code",
      "metadata": {
        "id": "6ArIvCCiSk6w",
        "colab": {
          "base_uri": "https://localhost:8080/",
          "height": 204
        },
        "outputId": "80a2c9db-2ca7-4f16-8637-efdf77e348be"
      },
      "source": [
        "# Javobni shuyerga yozing\n",
        "df.head()"
      ],
      "execution_count": null,
      "outputs": [
        {
          "output_type": "execute_result",
          "data": {
            "text/html": [
              "<div>\n",
              "<style scoped>\n",
              "    .dataframe tbody tr th:only-of-type {\n",
              "        vertical-align: middle;\n",
              "    }\n",
              "\n",
              "    .dataframe tbody tr th {\n",
              "        vertical-align: top;\n",
              "    }\n",
              "\n",
              "    .dataframe thead th {\n",
              "        text-align: right;\n",
              "    }\n",
              "</style>\n",
              "<table border=\"1\" class=\"dataframe\">\n",
              "  <thead>\n",
              "    <tr style=\"text-align: right;\">\n",
              "      <th></th>\n",
              "      <th>Hudud</th>\n",
              "      <th>Markaz</th>\n",
              "      <th>Maydoni</th>\n",
              "      <th>Aholisi</th>\n",
              "    </tr>\n",
              "  </thead>\n",
              "  <tbody>\n",
              "    <tr>\n",
              "      <th>0</th>\n",
              "      <td>Andijon viloyati</td>\n",
              "      <td>Andijon shahri</td>\n",
              "      <td>4200</td>\n",
              "      <td>1899000</td>\n",
              "    </tr>\n",
              "    <tr>\n",
              "      <th>1</th>\n",
              "      <td>Buxoro viloyati</td>\n",
              "      <td>Buxoro shahri</td>\n",
              "      <td>39400</td>\n",
              "      <td>1384700</td>\n",
              "    </tr>\n",
              "    <tr>\n",
              "      <th>2</th>\n",
              "      <td>Fargona viloyati</td>\n",
              "      <td>Fargona shahri</td>\n",
              "      <td>6800</td>\n",
              "      <td>2597000</td>\n",
              "    </tr>\n",
              "    <tr>\n",
              "      <th>3</th>\n",
              "      <td>Jizzax viloyati</td>\n",
              "      <td>Jizzax shahri</td>\n",
              "      <td>20500</td>\n",
              "      <td>910500</td>\n",
              "    </tr>\n",
              "    <tr>\n",
              "      <th>4</th>\n",
              "      <td>Xorazm viloyati</td>\n",
              "      <td>Urganch shahri</td>\n",
              "      <td>6300</td>\n",
              "      <td>1200000</td>\n",
              "    </tr>\n",
              "  </tbody>\n",
              "</table>\n",
              "</div>"
            ],
            "text/plain": [
              "              Hudud          Markaz  Maydoni  Aholisi\n",
              "0  Andijon viloyati  Andijon shahri     4200  1899000\n",
              "1   Buxoro viloyati   Buxoro shahri    39400  1384700\n",
              "2  Fargona viloyati  Fargona shahri     6800  2597000\n",
              "3   Jizzax viloyati   Jizzax shahri    20500   910500\n",
              "4   Xorazm viloyati  Urganch shahri     6300  1200000"
            ]
          },
          "metadata": {},
          "execution_count": 9
        }
      ]
    },
    {
      "cell_type": "code",
      "metadata": {
        "code_folding": [
          0
        ],
        "scrolled": true,
        "id": "0zr31MXwSk6x",
        "outputId": "9b3d9aae-d73e-4b64-c304-4feb4399dca2"
      },
      "source": [
        "#@title **To'g'ri javob**\n",
        "df.head()"
      ],
      "execution_count": null,
      "outputs": [
        {
          "data": {
            "text/html": [
              "<div>\n",
              "<style scoped>\n",
              "    .dataframe tbody tr th:only-of-type {\n",
              "        vertical-align: middle;\n",
              "    }\n",
              "\n",
              "    .dataframe tbody tr th {\n",
              "        vertical-align: top;\n",
              "    }\n",
              "\n",
              "    .dataframe thead th {\n",
              "        text-align: right;\n",
              "    }\n",
              "</style>\n",
              "<table border=\"1\" class=\"dataframe\">\n",
              "  <thead>\n",
              "    <tr style=\"text-align: right;\">\n",
              "      <th></th>\n",
              "      <th>Hudud</th>\n",
              "      <th>Markaz</th>\n",
              "      <th>Maydoni</th>\n",
              "      <th>Aholisi</th>\n",
              "    </tr>\n",
              "  </thead>\n",
              "  <tbody>\n",
              "    <tr>\n",
              "      <th>0</th>\n",
              "      <td>Andijon viloyati</td>\n",
              "      <td>Andijon shahri</td>\n",
              "      <td>4200</td>\n",
              "      <td>1899000</td>\n",
              "    </tr>\n",
              "    <tr>\n",
              "      <th>1</th>\n",
              "      <td>Buxoro viloyati</td>\n",
              "      <td>Buxoro shahri</td>\n",
              "      <td>39400</td>\n",
              "      <td>1384700</td>\n",
              "    </tr>\n",
              "    <tr>\n",
              "      <th>2</th>\n",
              "      <td>Fargʻona viloyati</td>\n",
              "      <td>Fargʻona shahri</td>\n",
              "      <td>6800</td>\n",
              "      <td>2597000</td>\n",
              "    </tr>\n",
              "    <tr>\n",
              "      <th>3</th>\n",
              "      <td>Jizzax viloyati</td>\n",
              "      <td>Jizzax shahri</td>\n",
              "      <td>20500</td>\n",
              "      <td>910500</td>\n",
              "    </tr>\n",
              "    <tr>\n",
              "      <th>4</th>\n",
              "      <td>Xorazm viloyati</td>\n",
              "      <td>Urganch shahri</td>\n",
              "      <td>6300</td>\n",
              "      <td>1200000</td>\n",
              "    </tr>\n",
              "  </tbody>\n",
              "</table>\n",
              "</div>"
            ],
            "text/plain": [
              "               Hudud           Markaz  Maydoni  Aholisi\n",
              "0   Andijon viloyati   Andijon shahri     4200  1899000\n",
              "1    Buxoro viloyati    Buxoro shahri    39400  1384700\n",
              "2  Fargʻona viloyati  Fargʻona shahri     6800  2597000\n",
              "3    Jizzax viloyati    Jizzax shahri    20500   910500\n",
              "4    Xorazm viloyati   Urganch shahri     6300  1200000"
            ]
          },
          "execution_count": 8,
          "metadata": {},
          "output_type": "execute_result"
        }
      ]
    },
    {
      "cell_type": "markdown",
      "metadata": {
        "id": "iVGIaTUJSk6y"
      },
      "source": [
        "### **3-mashq.** Yuqoridagi df dan tasodifiy 3 ta qator chiqaring"
      ]
    },
    {
      "cell_type": "code",
      "metadata": {
        "id": "m9Sj5-vkSk6y",
        "colab": {
          "base_uri": "https://localhost:8080/",
          "height": 142
        },
        "outputId": "6341ff9c-3e44-488f-dbb6-83992b0c8e07"
      },
      "source": [
        "# Javobni shuyerga yozing\n",
        "df.sample(3)"
      ],
      "execution_count": null,
      "outputs": [
        {
          "output_type": "execute_result",
          "data": {
            "text/html": [
              "<div>\n",
              "<style scoped>\n",
              "    .dataframe tbody tr th:only-of-type {\n",
              "        vertical-align: middle;\n",
              "    }\n",
              "\n",
              "    .dataframe tbody tr th {\n",
              "        vertical-align: top;\n",
              "    }\n",
              "\n",
              "    .dataframe thead th {\n",
              "        text-align: right;\n",
              "    }\n",
              "</style>\n",
              "<table border=\"1\" class=\"dataframe\">\n",
              "  <thead>\n",
              "    <tr style=\"text-align: right;\">\n",
              "      <th></th>\n",
              "      <th>Hudud</th>\n",
              "      <th>Markaz</th>\n",
              "      <th>Maydoni</th>\n",
              "      <th>Aholisi</th>\n",
              "    </tr>\n",
              "  </thead>\n",
              "  <tbody>\n",
              "    <tr>\n",
              "      <th>12</th>\n",
              "      <td>Toshkent viloyati</td>\n",
              "      <td>Nurafshon shahri</td>\n",
              "      <td>15300</td>\n",
              "      <td>4450000</td>\n",
              "    </tr>\n",
              "    <tr>\n",
              "      <th>6</th>\n",
              "      <td>Navoiy viloyati</td>\n",
              "      <td>Navoiy shahri</td>\n",
              "      <td>110800</td>\n",
              "      <td>767500</td>\n",
              "    </tr>\n",
              "    <tr>\n",
              "      <th>0</th>\n",
              "      <td>Andijon viloyati</td>\n",
              "      <td>Andijon shahri</td>\n",
              "      <td>4200</td>\n",
              "      <td>1899000</td>\n",
              "    </tr>\n",
              "  </tbody>\n",
              "</table>\n",
              "</div>"
            ],
            "text/plain": [
              "                Hudud            Markaz  Maydoni  Aholisi\n",
              "12  Toshkent viloyati  Nurafshon shahri    15300  4450000\n",
              "6     Navoiy viloyati     Navoiy shahri   110800   767500\n",
              "0    Andijon viloyati    Andijon shahri     4200  1899000"
            ]
          },
          "metadata": {},
          "execution_count": 10
        }
      ]
    },
    {
      "cell_type": "code",
      "metadata": {
        "code_folding": [
          0
        ],
        "id": "8PZeghaSSk6z",
        "outputId": "6812a6ba-2f68-4b8f-a8cc-068761a985b4"
      },
      "source": [
        "#@title **To'g'ri javob**\n",
        "df.sample(3)"
      ],
      "execution_count": null,
      "outputs": [
        {
          "data": {
            "text/html": [
              "<div>\n",
              "<style scoped>\n",
              "    .dataframe tbody tr th:only-of-type {\n",
              "        vertical-align: middle;\n",
              "    }\n",
              "\n",
              "    .dataframe tbody tr th {\n",
              "        vertical-align: top;\n",
              "    }\n",
              "\n",
              "    .dataframe thead th {\n",
              "        text-align: right;\n",
              "    }\n",
              "</style>\n",
              "<table border=\"1\" class=\"dataframe\">\n",
              "  <thead>\n",
              "    <tr style=\"text-align: right;\">\n",
              "      <th></th>\n",
              "      <th>Hudud</th>\n",
              "      <th>Markaz</th>\n",
              "      <th>Maydoni</th>\n",
              "      <th>Aholisi</th>\n",
              "    </tr>\n",
              "  </thead>\n",
              "  <tbody>\n",
              "    <tr>\n",
              "      <th>0</th>\n",
              "      <td>Andijon viloyati</td>\n",
              "      <td>Andijon shahri</td>\n",
              "      <td>4200</td>\n",
              "      <td>1899000</td>\n",
              "    </tr>\n",
              "    <tr>\n",
              "      <th>3</th>\n",
              "      <td>Jizzax viloyati</td>\n",
              "      <td>Jizzax shahri</td>\n",
              "      <td>20500</td>\n",
              "      <td>910500</td>\n",
              "    </tr>\n",
              "    <tr>\n",
              "      <th>8</th>\n",
              "      <td>Qoraqalpogʻiston Respublikasi</td>\n",
              "      <td>Nukus shahri</td>\n",
              "      <td>160000</td>\n",
              "      <td>1200000</td>\n",
              "    </tr>\n",
              "  </tbody>\n",
              "</table>\n",
              "</div>"
            ],
            "text/plain": [
              "                           Hudud          Markaz  Maydoni  Aholisi\n",
              "0               Andijon viloyati  Andijon shahri     4200  1899000\n",
              "3                Jizzax viloyati   Jizzax shahri    20500   910500\n",
              "8  Qoraqalpogʻiston Respublikasi    Nukus shahri   160000  1200000"
            ]
          },
          "execution_count": 11,
          "metadata": {},
          "output_type": "execute_result"
        }
      ]
    },
    {
      "cell_type": "markdown",
      "metadata": {
        "id": "l88okSdTSk61"
      },
      "source": [
        "### **4-mashq.** Yuqoridagi df ning 'Hudud' va 'Aholisi' ustinlarini alohida df ko'rinishida chiqaring"
      ]
    },
    {
      "cell_type": "code",
      "metadata": {
        "id": "TpAOU7wISk62",
        "colab": {
          "base_uri": "https://localhost:8080/",
          "height": 452
        },
        "outputId": "2e812e56-fa7b-4728-9507-0f1a1db91dd2"
      },
      "source": [
        "# Javobni shuyerga yozing\n",
        "df[['Hudud', 'Aholisi']]"
      ],
      "execution_count": null,
      "outputs": [
        {
          "output_type": "execute_result",
          "data": {
            "text/html": [
              "<div>\n",
              "<style scoped>\n",
              "    .dataframe tbody tr th:only-of-type {\n",
              "        vertical-align: middle;\n",
              "    }\n",
              "\n",
              "    .dataframe tbody tr th {\n",
              "        vertical-align: top;\n",
              "    }\n",
              "\n",
              "    .dataframe thead th {\n",
              "        text-align: right;\n",
              "    }\n",
              "</style>\n",
              "<table border=\"1\" class=\"dataframe\">\n",
              "  <thead>\n",
              "    <tr style=\"text-align: right;\">\n",
              "      <th></th>\n",
              "      <th>Hudud</th>\n",
              "      <th>Aholisi</th>\n",
              "    </tr>\n",
              "  </thead>\n",
              "  <tbody>\n",
              "    <tr>\n",
              "      <th>0</th>\n",
              "      <td>Andijon viloyati</td>\n",
              "      <td>1899000</td>\n",
              "    </tr>\n",
              "    <tr>\n",
              "      <th>1</th>\n",
              "      <td>Buxoro viloyati</td>\n",
              "      <td>1384700</td>\n",
              "    </tr>\n",
              "    <tr>\n",
              "      <th>2</th>\n",
              "      <td>Fargona viloyati</td>\n",
              "      <td>2597000</td>\n",
              "    </tr>\n",
              "    <tr>\n",
              "      <th>3</th>\n",
              "      <td>Jizzax viloyati</td>\n",
              "      <td>910500</td>\n",
              "    </tr>\n",
              "    <tr>\n",
              "      <th>4</th>\n",
              "      <td>Xorazm viloyati</td>\n",
              "      <td>1200000</td>\n",
              "    </tr>\n",
              "    <tr>\n",
              "      <th>5</th>\n",
              "      <td>Namangan viloyati</td>\n",
              "      <td>1862000</td>\n",
              "    </tr>\n",
              "    <tr>\n",
              "      <th>6</th>\n",
              "      <td>Navoiy viloyati</td>\n",
              "      <td>767500</td>\n",
              "    </tr>\n",
              "    <tr>\n",
              "      <th>7</th>\n",
              "      <td>Qashqadaryo viloyati</td>\n",
              "      <td>2029000</td>\n",
              "    </tr>\n",
              "    <tr>\n",
              "      <th>8</th>\n",
              "      <td>Qoraqalpogʻiston Respublikasi</td>\n",
              "      <td>1200000</td>\n",
              "    </tr>\n",
              "    <tr>\n",
              "      <th>9</th>\n",
              "      <td>Samarqand viloyati</td>\n",
              "      <td>2322000</td>\n",
              "    </tr>\n",
              "    <tr>\n",
              "      <th>10</th>\n",
              "      <td>Sirdaryo viloyati</td>\n",
              "      <td>648100</td>\n",
              "    </tr>\n",
              "    <tr>\n",
              "      <th>11</th>\n",
              "      <td>Surxondaryo viloyati</td>\n",
              "      <td>1676000</td>\n",
              "    </tr>\n",
              "    <tr>\n",
              "      <th>12</th>\n",
              "      <td>Toshkent viloyati</td>\n",
              "      <td>4450000</td>\n",
              "    </tr>\n",
              "  </tbody>\n",
              "</table>\n",
              "</div>"
            ],
            "text/plain": [
              "                            Hudud  Aholisi\n",
              "0                Andijon viloyati  1899000\n",
              "1                 Buxoro viloyati  1384700\n",
              "2                Fargona viloyati  2597000\n",
              "3                 Jizzax viloyati   910500\n",
              "4                 Xorazm viloyati  1200000\n",
              "5               Namangan viloyati  1862000\n",
              "6                 Navoiy viloyati   767500\n",
              "7            Qashqadaryo viloyati  2029000\n",
              "8   Qoraqalpogʻiston Respublikasi  1200000\n",
              "9              Samarqand viloyati  2322000\n",
              "10              Sirdaryo viloyati   648100\n",
              "11           Surxondaryo viloyati  1676000\n",
              "12              Toshkent viloyati  4450000"
            ]
          },
          "metadata": {},
          "execution_count": 12
        }
      ]
    },
    {
      "cell_type": "code",
      "metadata": {
        "code_folding": [
          0
        ],
        "scrolled": true,
        "id": "KTAoduwYSk62",
        "outputId": "dc85e3f0-988e-415f-c68e-7193b2691a63"
      },
      "source": [
        "#@title **To'g'ri javob**\n",
        "df[['Hudud','Aholisi']]"
      ],
      "execution_count": null,
      "outputs": [
        {
          "data": {
            "text/html": [
              "<div>\n",
              "<style scoped>\n",
              "    .dataframe tbody tr th:only-of-type {\n",
              "        vertical-align: middle;\n",
              "    }\n",
              "\n",
              "    .dataframe tbody tr th {\n",
              "        vertical-align: top;\n",
              "    }\n",
              "\n",
              "    .dataframe thead th {\n",
              "        text-align: right;\n",
              "    }\n",
              "</style>\n",
              "<table border=\"1\" class=\"dataframe\">\n",
              "  <thead>\n",
              "    <tr style=\"text-align: right;\">\n",
              "      <th></th>\n",
              "      <th>Hudud</th>\n",
              "      <th>Aholisi</th>\n",
              "    </tr>\n",
              "  </thead>\n",
              "  <tbody>\n",
              "    <tr>\n",
              "      <th>0</th>\n",
              "      <td>Andijon viloyati</td>\n",
              "      <td>1899000</td>\n",
              "    </tr>\n",
              "    <tr>\n",
              "      <th>1</th>\n",
              "      <td>Buxoro viloyati</td>\n",
              "      <td>1384700</td>\n",
              "    </tr>\n",
              "    <tr>\n",
              "      <th>2</th>\n",
              "      <td>Fargʻona viloyati</td>\n",
              "      <td>2597000</td>\n",
              "    </tr>\n",
              "    <tr>\n",
              "      <th>3</th>\n",
              "      <td>Jizzax viloyati</td>\n",
              "      <td>910500</td>\n",
              "    </tr>\n",
              "    <tr>\n",
              "      <th>4</th>\n",
              "      <td>Xorazm viloyati</td>\n",
              "      <td>1200000</td>\n",
              "    </tr>\n",
              "    <tr>\n",
              "      <th>5</th>\n",
              "      <td>Namangan viloyati</td>\n",
              "      <td>1862000</td>\n",
              "    </tr>\n",
              "    <tr>\n",
              "      <th>6</th>\n",
              "      <td>Navoiy viloyati</td>\n",
              "      <td>767500</td>\n",
              "    </tr>\n",
              "    <tr>\n",
              "      <th>7</th>\n",
              "      <td>Qashqadaryo viloyati</td>\n",
              "      <td>2029000</td>\n",
              "    </tr>\n",
              "    <tr>\n",
              "      <th>8</th>\n",
              "      <td>Qoraqalpogʻiston Respublikasi</td>\n",
              "      <td>1200000</td>\n",
              "    </tr>\n",
              "    <tr>\n",
              "      <th>9</th>\n",
              "      <td>Samarqand viloyati</td>\n",
              "      <td>2322000</td>\n",
              "    </tr>\n",
              "    <tr>\n",
              "      <th>10</th>\n",
              "      <td>Sirdaryo viloyati</td>\n",
              "      <td>648100</td>\n",
              "    </tr>\n",
              "    <tr>\n",
              "      <th>11</th>\n",
              "      <td>Surxondaryo viloyati</td>\n",
              "      <td>1676000</td>\n",
              "    </tr>\n",
              "    <tr>\n",
              "      <th>12</th>\n",
              "      <td>Toshkent viloyati</td>\n",
              "      <td>4450000</td>\n",
              "    </tr>\n",
              "  </tbody>\n",
              "</table>\n",
              "</div>"
            ],
            "text/plain": [
              "                            Hudud  Aholisi\n",
              "0                Andijon viloyati  1899000\n",
              "1                 Buxoro viloyati  1384700\n",
              "2               Fargʻona viloyati  2597000\n",
              "3                 Jizzax viloyati   910500\n",
              "4                 Xorazm viloyati  1200000\n",
              "5               Namangan viloyati  1862000\n",
              "6                 Navoiy viloyati   767500\n",
              "7            Qashqadaryo viloyati  2029000\n",
              "8   Qoraqalpogʻiston Respublikasi  1200000\n",
              "9              Samarqand viloyati  2322000\n",
              "10              Sirdaryo viloyati   648100\n",
              "11           Surxondaryo viloyati  1676000\n",
              "12              Toshkent viloyati  4450000"
            ]
          },
          "execution_count": 12,
          "metadata": {},
          "output_type": "execute_result"
        }
      ]
    },
    {
      "cell_type": "markdown",
      "metadata": {
        "id": "_TpfgNtrSk62"
      },
      "source": [
        "### **5-mashq.** Yuqoridagi df ning `Markaz` ustunini Series obyekti ko'rinishida chiqaring"
      ]
    },
    {
      "cell_type": "code",
      "metadata": {
        "id": "Orp1ed3tSk62"
      },
      "source": [
        "# Javobni shuyerga yozing\n"
      ],
      "execution_count": null,
      "outputs": []
    },
    {
      "cell_type": "code",
      "metadata": {
        "code_folding": [
          0
        ],
        "scrolled": false,
        "id": "qHrZ8ULdSk63",
        "colab": {
          "base_uri": "https://localhost:8080/"
        },
        "outputId": "27aae345-da8c-4ac6-bdbe-8c05de0cb1cb"
      },
      "source": [
        "#@title **To'g'ri javob**\n",
        "df.Markaz"
      ],
      "execution_count": null,
      "outputs": [
        {
          "output_type": "execute_result",
          "data": {
            "text/plain": [
              "0       Andijon shahri\n",
              "1        Buxoro shahri\n",
              "2       Fargona shahri\n",
              "3        Jizzax shahri\n",
              "4       Urganch shahri\n",
              "5      Namangan shahri\n",
              "6        Navoiy shahri\n",
              "7        Qarshi shahri\n",
              "8         Nukus shahri\n",
              "9     Samarqand shahri\n",
              "10     Guliston shahri\n",
              "11       Termiz shahri\n",
              "12    Nurafshon shahri\n",
              "Name: Markaz, dtype: object"
            ]
          },
          "metadata": {},
          "execution_count": 14
        }
      ]
    },
    {
      "cell_type": "code",
      "metadata": {
        "colab": {
          "base_uri": "https://localhost:8080/"
        },
        "id": "VRuzZw5IVD3w",
        "outputId": "a1835a63-91cd-41b7-e9c3-99fbc7571bb1"
      },
      "source": [
        "df.Markaz"
      ],
      "execution_count": null,
      "outputs": [
        {
          "output_type": "execute_result",
          "data": {
            "text/plain": [
              "0       Andijon shahri\n",
              "1        Buxoro shahri\n",
              "2       Fargona shahri\n",
              "3        Jizzax shahri\n",
              "4       Urganch shahri\n",
              "5      Namangan shahri\n",
              "6        Navoiy shahri\n",
              "7        Qarshi shahri\n",
              "8         Nukus shahri\n",
              "9     Samarqand shahri\n",
              "10     Guliston shahri\n",
              "11       Termiz shahri\n",
              "12    Nurafshon shahri\n",
              "Name: Markaz, dtype: object"
            ]
          },
          "metadata": {},
          "execution_count": 15
        }
      ]
    },
    {
      "cell_type": "markdown",
      "metadata": {
        "id": "nX4X2p2nSk63"
      },
      "source": [
        "### **6-mashq.** Yuqoridagi df dan aholi soni 2 milliondan oshiq bo'lgan hududlarni chiqaring"
      ]
    },
    {
      "cell_type": "code",
      "metadata": {
        "id": "R51RRl5USk63",
        "colab": {
          "base_uri": "https://localhost:8080/",
          "height": 173
        },
        "outputId": "f98a0ac5-4f44-4d65-f9a7-a0160a84eca1"
      },
      "source": [
        "# Javobni shuyerga yozing\n",
        "df[df.Aholisi>2000000]"
      ],
      "execution_count": null,
      "outputs": [
        {
          "output_type": "execute_result",
          "data": {
            "text/html": [
              "<div>\n",
              "<style scoped>\n",
              "    .dataframe tbody tr th:only-of-type {\n",
              "        vertical-align: middle;\n",
              "    }\n",
              "\n",
              "    .dataframe tbody tr th {\n",
              "        vertical-align: top;\n",
              "    }\n",
              "\n",
              "    .dataframe thead th {\n",
              "        text-align: right;\n",
              "    }\n",
              "</style>\n",
              "<table border=\"1\" class=\"dataframe\">\n",
              "  <thead>\n",
              "    <tr style=\"text-align: right;\">\n",
              "      <th></th>\n",
              "      <th>Hudud</th>\n",
              "      <th>Markaz</th>\n",
              "      <th>Maydoni</th>\n",
              "      <th>Aholisi</th>\n",
              "    </tr>\n",
              "  </thead>\n",
              "  <tbody>\n",
              "    <tr>\n",
              "      <th>2</th>\n",
              "      <td>Fargona viloyati</td>\n",
              "      <td>Fargona shahri</td>\n",
              "      <td>6800</td>\n",
              "      <td>2597000</td>\n",
              "    </tr>\n",
              "    <tr>\n",
              "      <th>7</th>\n",
              "      <td>Qashqadaryo viloyati</td>\n",
              "      <td>Qarshi shahri</td>\n",
              "      <td>28400</td>\n",
              "      <td>2029000</td>\n",
              "    </tr>\n",
              "    <tr>\n",
              "      <th>9</th>\n",
              "      <td>Samarqand viloyati</td>\n",
              "      <td>Samarqand shahri</td>\n",
              "      <td>16400</td>\n",
              "      <td>2322000</td>\n",
              "    </tr>\n",
              "    <tr>\n",
              "      <th>12</th>\n",
              "      <td>Toshkent viloyati</td>\n",
              "      <td>Nurafshon shahri</td>\n",
              "      <td>15300</td>\n",
              "      <td>4450000</td>\n",
              "    </tr>\n",
              "  </tbody>\n",
              "</table>\n",
              "</div>"
            ],
            "text/plain": [
              "                   Hudud            Markaz  Maydoni  Aholisi\n",
              "2       Fargona viloyati    Fargona shahri     6800  2597000\n",
              "7   Qashqadaryo viloyati     Qarshi shahri    28400  2029000\n",
              "9     Samarqand viloyati  Samarqand shahri    16400  2322000\n",
              "12     Toshkent viloyati  Nurafshon shahri    15300  4450000"
            ]
          },
          "metadata": {},
          "execution_count": 16
        }
      ]
    },
    {
      "cell_type": "code",
      "metadata": {
        "code_folding": [
          0
        ],
        "scrolled": true,
        "id": "nUxAJ4S4Sk64",
        "outputId": "66c80805-2785-436e-c1a7-9739c166368c"
      },
      "source": [
        "#@title **To'g'ri javob**\n",
        "df[df.Aholisi>2_000_000]"
      ],
      "execution_count": null,
      "outputs": [
        {
          "data": {
            "text/html": [
              "<div>\n",
              "<style scoped>\n",
              "    .dataframe tbody tr th:only-of-type {\n",
              "        vertical-align: middle;\n",
              "    }\n",
              "\n",
              "    .dataframe tbody tr th {\n",
              "        vertical-align: top;\n",
              "    }\n",
              "\n",
              "    .dataframe thead th {\n",
              "        text-align: right;\n",
              "    }\n",
              "</style>\n",
              "<table border=\"1\" class=\"dataframe\">\n",
              "  <thead>\n",
              "    <tr style=\"text-align: right;\">\n",
              "      <th></th>\n",
              "      <th>Hudud</th>\n",
              "      <th>Markaz</th>\n",
              "      <th>Maydoni</th>\n",
              "      <th>Aholisi</th>\n",
              "    </tr>\n",
              "  </thead>\n",
              "  <tbody>\n",
              "    <tr>\n",
              "      <th>2</th>\n",
              "      <td>Fargʻona viloyati</td>\n",
              "      <td>Fargʻona shahri</td>\n",
              "      <td>6800</td>\n",
              "      <td>2597000</td>\n",
              "    </tr>\n",
              "    <tr>\n",
              "      <th>7</th>\n",
              "      <td>Qashqadaryo viloyati</td>\n",
              "      <td>Qarshi shahri</td>\n",
              "      <td>28400</td>\n",
              "      <td>2029000</td>\n",
              "    </tr>\n",
              "    <tr>\n",
              "      <th>9</th>\n",
              "      <td>Samarqand viloyati</td>\n",
              "      <td>Samarqand shahri</td>\n",
              "      <td>16400</td>\n",
              "      <td>2322000</td>\n",
              "    </tr>\n",
              "    <tr>\n",
              "      <th>12</th>\n",
              "      <td>Toshkent viloyati</td>\n",
              "      <td>Nurafshon shahri</td>\n",
              "      <td>15300</td>\n",
              "      <td>4450000</td>\n",
              "    </tr>\n",
              "  </tbody>\n",
              "</table>\n",
              "</div>"
            ],
            "text/plain": [
              "                   Hudud            Markaz  Maydoni  Aholisi\n",
              "2      Fargʻona viloyati   Fargʻona shahri     6800  2597000\n",
              "7   Qashqadaryo viloyati     Qarshi shahri    28400  2029000\n",
              "9     Samarqand viloyati  Samarqand shahri    16400  2322000\n",
              "12     Toshkent viloyati  Nurafshon shahri    15300  4450000"
            ]
          },
          "execution_count": 20,
          "metadata": {},
          "output_type": "execute_result"
        }
      ]
    },
    {
      "cell_type": "code",
      "metadata": {
        "id": "XLOpBaySVLT-"
      },
      "source": [
        ""
      ],
      "execution_count": null,
      "outputs": []
    },
    {
      "cell_type": "markdown",
      "metadata": {
        "id": "xf4qQ7uFSk64"
      },
      "source": [
        "### **7-mashq.** Yuqoridagi df dan maydoni 10000kv.km dan kichik bo'lgan hududlarni chiqaring"
      ]
    },
    {
      "cell_type": "code",
      "metadata": {
        "id": "Cs5ebjMfSk64"
      },
      "source": [
        "# Javobni shuyerga yozing\n"
      ],
      "execution_count": null,
      "outputs": []
    },
    {
      "cell_type": "code",
      "metadata": {
        "code_folding": [
          0
        ],
        "scrolled": false,
        "id": "o65HjK4FSk65",
        "outputId": "0513b34d-ee55-49e9-8b12-c22040349d1d"
      },
      "source": [
        "#@title **To'g'ri javob**\n",
        "df[df.Maydoni<10000]"
      ],
      "execution_count": null,
      "outputs": [
        {
          "data": {
            "text/html": [
              "<div>\n",
              "<style scoped>\n",
              "    .dataframe tbody tr th:only-of-type {\n",
              "        vertical-align: middle;\n",
              "    }\n",
              "\n",
              "    .dataframe tbody tr th {\n",
              "        vertical-align: top;\n",
              "    }\n",
              "\n",
              "    .dataframe thead th {\n",
              "        text-align: right;\n",
              "    }\n",
              "</style>\n",
              "<table border=\"1\" class=\"dataframe\">\n",
              "  <thead>\n",
              "    <tr style=\"text-align: right;\">\n",
              "      <th></th>\n",
              "      <th>Hudud</th>\n",
              "      <th>Markaz</th>\n",
              "      <th>Maydoni</th>\n",
              "      <th>Aholisi</th>\n",
              "    </tr>\n",
              "  </thead>\n",
              "  <tbody>\n",
              "    <tr>\n",
              "      <th>0</th>\n",
              "      <td>Andijon viloyati</td>\n",
              "      <td>Andijon shahri</td>\n",
              "      <td>4200</td>\n",
              "      <td>1899000</td>\n",
              "    </tr>\n",
              "    <tr>\n",
              "      <th>2</th>\n",
              "      <td>Fargona viloyati</td>\n",
              "      <td>Fargona shahri</td>\n",
              "      <td>6800</td>\n",
              "      <td>2597000</td>\n",
              "    </tr>\n",
              "    <tr>\n",
              "      <th>4</th>\n",
              "      <td>Xorazm viloyati</td>\n",
              "      <td>Urganch shahri</td>\n",
              "      <td>6300</td>\n",
              "      <td>1200000</td>\n",
              "    </tr>\n",
              "    <tr>\n",
              "      <th>5</th>\n",
              "      <td>Namangan viloyati</td>\n",
              "      <td>Namangan shahri</td>\n",
              "      <td>7900</td>\n",
              "      <td>1862000</td>\n",
              "    </tr>\n",
              "    <tr>\n",
              "      <th>10</th>\n",
              "      <td>Sirdaryo viloyati</td>\n",
              "      <td>Guliston shahri</td>\n",
              "      <td>5100</td>\n",
              "      <td>648100</td>\n",
              "    </tr>\n",
              "  </tbody>\n",
              "</table>\n",
              "</div>"
            ],
            "text/plain": [
              "                Hudud           Markaz  Maydoni  Aholisi\n",
              "0    Andijon viloyati   Andijon shahri     4200  1899000\n",
              "2    Fargona viloyati   Fargona shahri     6800  2597000\n",
              "4     Xorazm viloyati   Urganch shahri     6300  1200000\n",
              "5   Namangan viloyati  Namangan shahri     7900  1862000\n",
              "10  Sirdaryo viloyati  Guliston shahri     5100   648100"
            ]
          },
          "execution_count": 72,
          "metadata": {},
          "output_type": "execute_result"
        }
      ]
    },
    {
      "cell_type": "code",
      "metadata": {
        "colab": {
          "base_uri": "https://localhost:8080/",
          "height": 297
        },
        "id": "XDw21f5_VWQO",
        "outputId": "3e814db2-d18d-449a-9187-f582c504bf03"
      },
      "source": [
        "df[df.Maydoni>10000]"
      ],
      "execution_count": null,
      "outputs": [
        {
          "output_type": "execute_result",
          "data": {
            "text/html": [
              "<div>\n",
              "<style scoped>\n",
              "    .dataframe tbody tr th:only-of-type {\n",
              "        vertical-align: middle;\n",
              "    }\n",
              "\n",
              "    .dataframe tbody tr th {\n",
              "        vertical-align: top;\n",
              "    }\n",
              "\n",
              "    .dataframe thead th {\n",
              "        text-align: right;\n",
              "    }\n",
              "</style>\n",
              "<table border=\"1\" class=\"dataframe\">\n",
              "  <thead>\n",
              "    <tr style=\"text-align: right;\">\n",
              "      <th></th>\n",
              "      <th>Hudud</th>\n",
              "      <th>Markaz</th>\n",
              "      <th>Maydoni</th>\n",
              "      <th>Aholisi</th>\n",
              "    </tr>\n",
              "  </thead>\n",
              "  <tbody>\n",
              "    <tr>\n",
              "      <th>1</th>\n",
              "      <td>Buxoro viloyati</td>\n",
              "      <td>Buxoro shahri</td>\n",
              "      <td>39400</td>\n",
              "      <td>1384700</td>\n",
              "    </tr>\n",
              "    <tr>\n",
              "      <th>3</th>\n",
              "      <td>Jizzax viloyati</td>\n",
              "      <td>Jizzax shahri</td>\n",
              "      <td>20500</td>\n",
              "      <td>910500</td>\n",
              "    </tr>\n",
              "    <tr>\n",
              "      <th>6</th>\n",
              "      <td>Navoiy viloyati</td>\n",
              "      <td>Navoiy shahri</td>\n",
              "      <td>110800</td>\n",
              "      <td>767500</td>\n",
              "    </tr>\n",
              "    <tr>\n",
              "      <th>7</th>\n",
              "      <td>Qashqadaryo viloyati</td>\n",
              "      <td>Qarshi shahri</td>\n",
              "      <td>28400</td>\n",
              "      <td>2029000</td>\n",
              "    </tr>\n",
              "    <tr>\n",
              "      <th>8</th>\n",
              "      <td>Qoraqalpogʻiston Respublikasi</td>\n",
              "      <td>Nukus shahri</td>\n",
              "      <td>160000</td>\n",
              "      <td>1200000</td>\n",
              "    </tr>\n",
              "    <tr>\n",
              "      <th>9</th>\n",
              "      <td>Samarqand viloyati</td>\n",
              "      <td>Samarqand shahri</td>\n",
              "      <td>16400</td>\n",
              "      <td>2322000</td>\n",
              "    </tr>\n",
              "    <tr>\n",
              "      <th>11</th>\n",
              "      <td>Surxondaryo viloyati</td>\n",
              "      <td>Termiz shahri</td>\n",
              "      <td>20800</td>\n",
              "      <td>1676000</td>\n",
              "    </tr>\n",
              "    <tr>\n",
              "      <th>12</th>\n",
              "      <td>Toshkent viloyati</td>\n",
              "      <td>Nurafshon shahri</td>\n",
              "      <td>15300</td>\n",
              "      <td>4450000</td>\n",
              "    </tr>\n",
              "  </tbody>\n",
              "</table>\n",
              "</div>"
            ],
            "text/plain": [
              "                            Hudud            Markaz  Maydoni  Aholisi\n",
              "1                 Buxoro viloyati     Buxoro shahri    39400  1384700\n",
              "3                 Jizzax viloyati     Jizzax shahri    20500   910500\n",
              "6                 Navoiy viloyati     Navoiy shahri   110800   767500\n",
              "7            Qashqadaryo viloyati     Qarshi shahri    28400  2029000\n",
              "8   Qoraqalpogʻiston Respublikasi      Nukus shahri   160000  1200000\n",
              "9              Samarqand viloyati  Samarqand shahri    16400  2322000\n",
              "11           Surxondaryo viloyati     Termiz shahri    20800  1676000\n",
              "12              Toshkent viloyati  Nurafshon shahri    15300  4450000"
            ]
          },
          "metadata": {},
          "execution_count": 17
        }
      ]
    },
    {
      "cell_type": "markdown",
      "metadata": {
        "id": "IQQDmK0ESk65"
      },
      "source": [
        "### **8-mashq.** Yuqoridagi df ning birinchi ustunini df ning indeksi sifatida ishlating\n",
        "Ishora:\n",
        "1. Yoki df ni qayta yarating\n",
        "2. Yoki `set_index()` metodidan foydalaning"
      ]
    },
    {
      "cell_type": "code",
      "metadata": {
        "id": "nijXTnJ9Sk65",
        "colab": {
          "base_uri": "https://localhost:8080/",
          "height": 235
        },
        "outputId": "01a0a428-864d-4aa9-f452-d91022666afa"
      },
      "source": [
        "# Javobni shuyerga yozing\n",
        "df.set_index(df.columns[0], inplace=True)\n",
        "df.head()"
      ],
      "execution_count": null,
      "outputs": [
        {
          "output_type": "execute_result",
          "data": {
            "text/html": [
              "<div>\n",
              "<style scoped>\n",
              "    .dataframe tbody tr th:only-of-type {\n",
              "        vertical-align: middle;\n",
              "    }\n",
              "\n",
              "    .dataframe tbody tr th {\n",
              "        vertical-align: top;\n",
              "    }\n",
              "\n",
              "    .dataframe thead th {\n",
              "        text-align: right;\n",
              "    }\n",
              "</style>\n",
              "<table border=\"1\" class=\"dataframe\">\n",
              "  <thead>\n",
              "    <tr style=\"text-align: right;\">\n",
              "      <th></th>\n",
              "      <th>Markaz</th>\n",
              "      <th>Maydoni</th>\n",
              "      <th>Aholisi</th>\n",
              "    </tr>\n",
              "    <tr>\n",
              "      <th>Hudud</th>\n",
              "      <th></th>\n",
              "      <th></th>\n",
              "      <th></th>\n",
              "    </tr>\n",
              "  </thead>\n",
              "  <tbody>\n",
              "    <tr>\n",
              "      <th>Andijon viloyati</th>\n",
              "      <td>Andijon shahri</td>\n",
              "      <td>4200</td>\n",
              "      <td>1899000</td>\n",
              "    </tr>\n",
              "    <tr>\n",
              "      <th>Buxoro viloyati</th>\n",
              "      <td>Buxoro shahri</td>\n",
              "      <td>39400</td>\n",
              "      <td>1384700</td>\n",
              "    </tr>\n",
              "    <tr>\n",
              "      <th>Fargona viloyati</th>\n",
              "      <td>Fargona shahri</td>\n",
              "      <td>6800</td>\n",
              "      <td>2597000</td>\n",
              "    </tr>\n",
              "    <tr>\n",
              "      <th>Jizzax viloyati</th>\n",
              "      <td>Jizzax shahri</td>\n",
              "      <td>20500</td>\n",
              "      <td>910500</td>\n",
              "    </tr>\n",
              "    <tr>\n",
              "      <th>Xorazm viloyati</th>\n",
              "      <td>Urganch shahri</td>\n",
              "      <td>6300</td>\n",
              "      <td>1200000</td>\n",
              "    </tr>\n",
              "  </tbody>\n",
              "</table>\n",
              "</div>"
            ],
            "text/plain": [
              "                          Markaz  Maydoni  Aholisi\n",
              "Hudud                                             \n",
              "Andijon viloyati  Andijon shahri     4200  1899000\n",
              "Buxoro viloyati    Buxoro shahri    39400  1384700\n",
              "Fargona viloyati  Fargona shahri     6800  2597000\n",
              "Jizzax viloyati    Jizzax shahri    20500   910500\n",
              "Xorazm viloyati   Urganch shahri     6300  1200000"
            ]
          },
          "metadata": {},
          "execution_count": 20
        }
      ]
    },
    {
      "cell_type": "code",
      "metadata": {
        "code_folding": [
          0
        ],
        "scrolled": true,
        "id": "NLea92V6Sk65",
        "outputId": "a307759a-6e97-441d-fcd8-fb26230f196b"
      },
      "source": [
        "#@title **To'g'ri javob**\n",
        "df.set_index(df.columns[0], inplace=True)\n",
        "df.head()"
      ],
      "execution_count": null,
      "outputs": [
        {
          "data": {
            "text/html": [
              "<div>\n",
              "<style scoped>\n",
              "    .dataframe tbody tr th:only-of-type {\n",
              "        vertical-align: middle;\n",
              "    }\n",
              "\n",
              "    .dataframe tbody tr th {\n",
              "        vertical-align: top;\n",
              "    }\n",
              "\n",
              "    .dataframe thead th {\n",
              "        text-align: right;\n",
              "    }\n",
              "</style>\n",
              "<table border=\"1\" class=\"dataframe\">\n",
              "  <thead>\n",
              "    <tr style=\"text-align: right;\">\n",
              "      <th></th>\n",
              "      <th>Markaz</th>\n",
              "      <th>Maydoni</th>\n",
              "      <th>Aholisi</th>\n",
              "    </tr>\n",
              "    <tr>\n",
              "      <th>Hudud</th>\n",
              "      <th></th>\n",
              "      <th></th>\n",
              "      <th></th>\n",
              "    </tr>\n",
              "  </thead>\n",
              "  <tbody>\n",
              "    <tr>\n",
              "      <th>Andijon viloyati</th>\n",
              "      <td>Andijon shahri</td>\n",
              "      <td>4200</td>\n",
              "      <td>1899000</td>\n",
              "    </tr>\n",
              "    <tr>\n",
              "      <th>Buxoro viloyati</th>\n",
              "      <td>Buxoro shahri</td>\n",
              "      <td>39400</td>\n",
              "      <td>1384700</td>\n",
              "    </tr>\n",
              "    <tr>\n",
              "      <th>Fargona viloyati</th>\n",
              "      <td>Fargona shahri</td>\n",
              "      <td>6800</td>\n",
              "      <td>2597000</td>\n",
              "    </tr>\n",
              "    <tr>\n",
              "      <th>Jizzax viloyati</th>\n",
              "      <td>Jizzax shahri</td>\n",
              "      <td>20500</td>\n",
              "      <td>910500</td>\n",
              "    </tr>\n",
              "    <tr>\n",
              "      <th>Xorazm viloyati</th>\n",
              "      <td>Urganch shahri</td>\n",
              "      <td>6300</td>\n",
              "      <td>1200000</td>\n",
              "    </tr>\n",
              "  </tbody>\n",
              "</table>\n",
              "</div>"
            ],
            "text/plain": [
              "                          Markaz  Maydoni  Aholisi\n",
              "Hudud                                             \n",
              "Andijon viloyati  Andijon shahri     4200  1899000\n",
              "Buxoro viloyati    Buxoro shahri    39400  1384700\n",
              "Fargona viloyati  Fargona shahri     6800  2597000\n",
              "Jizzax viloyati    Jizzax shahri    20500   910500\n",
              "Xorazm viloyati   Urganch shahri     6300  1200000"
            ]
          },
          "execution_count": 74,
          "metadata": {},
          "output_type": "execute_result"
        }
      ]
    },
    {
      "cell_type": "code",
      "metadata": {
        "id": "XOd7jcXyVqSH"
      },
      "source": [
        ""
      ],
      "execution_count": null,
      "outputs": []
    },
    {
      "cell_type": "markdown",
      "metadata": {
        "id": "XHvy5ZqFSk66"
      },
      "source": [
        "### **9-mashq.** Yuqoridagi df dan, Aholisi 2 milliondan oshiq hududlar orasida Samarqand viloyati bor yoki yo'qligini tekshiring"
      ]
    },
    {
      "cell_type": "code",
      "metadata": {
        "id": "FNKNVo0nSk66",
        "colab": {
          "base_uri": "https://localhost:8080/"
        },
        "outputId": "f1c9d561-55e3-495b-b4ac-3418b110e730"
      },
      "source": [
        "# Javobni shuyerga yozing\n",
        "\"Samarqand viloyati\" in df[df.Aholisi>2000000].index"
      ],
      "execution_count": null,
      "outputs": [
        {
          "output_type": "execute_result",
          "data": {
            "text/plain": [
              "True"
            ]
          },
          "metadata": {},
          "execution_count": 26
        }
      ]
    },
    {
      "cell_type": "code",
      "metadata": {
        "code_folding": [
          0
        ],
        "scrolled": true,
        "id": "PIZER5UJSk66",
        "colab": {
          "base_uri": "https://localhost:8080/"
        },
        "outputId": "9c450324-1b25-4cab-d0ce-8038ab7323c8"
      },
      "source": [
        "#@title **To'g'ri javob**\n",
        "\"Samarqand viloyati\" in df[df.Aholisi>2_000_000].index"
      ],
      "execution_count": null,
      "outputs": [
        {
          "output_type": "execute_result",
          "data": {
            "text/plain": [
              "True"
            ]
          },
          "metadata": {},
          "execution_count": 24
        }
      ]
    },
    {
      "cell_type": "code",
      "metadata": {
        "id": "Jqg0ZYpNWMV3"
      },
      "source": [
        ""
      ],
      "execution_count": null,
      "outputs": []
    },
    {
      "cell_type": "markdown",
      "metadata": {
        "id": "EMF9NnhPSk67"
      },
      "source": [
        "### **10-mashq.**  Yuqoridagi df dan faqatgina Andijon, Farg'ona va Namangan viloyatlarini ajratib ko'rsating"
      ]
    },
    {
      "cell_type": "code",
      "metadata": {
        "id": "Y82zoQagSk67",
        "colab": {
          "base_uri": "https://localhost:8080/",
          "height": 173
        },
        "outputId": "154067d3-c664-4ce4-d64b-e21a4fae456c"
      },
      "source": [
        "# Javobni shuyerga yozing\n",
        "df.loc[[\"Andijon viloyati\",\"Fargona viloyati\",\"Namangan viloyati\"]]"
      ],
      "execution_count": null,
      "outputs": [
        {
          "output_type": "execute_result",
          "data": {
            "text/html": [
              "<div>\n",
              "<style scoped>\n",
              "    .dataframe tbody tr th:only-of-type {\n",
              "        vertical-align: middle;\n",
              "    }\n",
              "\n",
              "    .dataframe tbody tr th {\n",
              "        vertical-align: top;\n",
              "    }\n",
              "\n",
              "    .dataframe thead th {\n",
              "        text-align: right;\n",
              "    }\n",
              "</style>\n",
              "<table border=\"1\" class=\"dataframe\">\n",
              "  <thead>\n",
              "    <tr style=\"text-align: right;\">\n",
              "      <th></th>\n",
              "      <th>Markaz</th>\n",
              "      <th>Maydoni</th>\n",
              "      <th>Aholisi</th>\n",
              "    </tr>\n",
              "    <tr>\n",
              "      <th>Hudud</th>\n",
              "      <th></th>\n",
              "      <th></th>\n",
              "      <th></th>\n",
              "    </tr>\n",
              "  </thead>\n",
              "  <tbody>\n",
              "    <tr>\n",
              "      <th>Andijon viloyati</th>\n",
              "      <td>Andijon shahri</td>\n",
              "      <td>4200</td>\n",
              "      <td>1899000</td>\n",
              "    </tr>\n",
              "    <tr>\n",
              "      <th>Fargona viloyati</th>\n",
              "      <td>Fargona shahri</td>\n",
              "      <td>6800</td>\n",
              "      <td>2597000</td>\n",
              "    </tr>\n",
              "    <tr>\n",
              "      <th>Namangan viloyati</th>\n",
              "      <td>Namangan shahri</td>\n",
              "      <td>7900</td>\n",
              "      <td>1862000</td>\n",
              "    </tr>\n",
              "  </tbody>\n",
              "</table>\n",
              "</div>"
            ],
            "text/plain": [
              "                            Markaz  Maydoni  Aholisi\n",
              "Hudud                                               \n",
              "Andijon viloyati    Andijon shahri     4200  1899000\n",
              "Fargona viloyati    Fargona shahri     6800  2597000\n",
              "Namangan viloyati  Namangan shahri     7900  1862000"
            ]
          },
          "metadata": {},
          "execution_count": 31
        }
      ]
    },
    {
      "cell_type": "code",
      "metadata": {
        "code_folding": [
          0
        ],
        "scrolled": true,
        "id": "pSI3h8M2Sk67",
        "colab": {
          "base_uri": "https://localhost:8080/",
          "height": 173
        },
        "outputId": "3a3c85f5-ad26-4072-bc91-d3be49999dfe"
      },
      "source": [
        "#@title **To'g'ri javob**\n",
        "df.loc[[\"Andijon viloyati\",\"Fargona viloyati\",\"Namangan viloyati\"]]"
      ],
      "execution_count": null,
      "outputs": [
        {
          "output_type": "execute_result",
          "data": {
            "text/html": [
              "<div>\n",
              "<style scoped>\n",
              "    .dataframe tbody tr th:only-of-type {\n",
              "        vertical-align: middle;\n",
              "    }\n",
              "\n",
              "    .dataframe tbody tr th {\n",
              "        vertical-align: top;\n",
              "    }\n",
              "\n",
              "    .dataframe thead th {\n",
              "        text-align: right;\n",
              "    }\n",
              "</style>\n",
              "<table border=\"1\" class=\"dataframe\">\n",
              "  <thead>\n",
              "    <tr style=\"text-align: right;\">\n",
              "      <th></th>\n",
              "      <th>Markaz</th>\n",
              "      <th>Maydoni</th>\n",
              "      <th>Aholisi</th>\n",
              "    </tr>\n",
              "    <tr>\n",
              "      <th>Hudud</th>\n",
              "      <th></th>\n",
              "      <th></th>\n",
              "      <th></th>\n",
              "    </tr>\n",
              "  </thead>\n",
              "  <tbody>\n",
              "    <tr>\n",
              "      <th>Andijon viloyati</th>\n",
              "      <td>Andijon shahri</td>\n",
              "      <td>4200</td>\n",
              "      <td>1899000</td>\n",
              "    </tr>\n",
              "    <tr>\n",
              "      <th>Fargona viloyati</th>\n",
              "      <td>Fargona shahri</td>\n",
              "      <td>6800</td>\n",
              "      <td>2597000</td>\n",
              "    </tr>\n",
              "    <tr>\n",
              "      <th>Namangan viloyati</th>\n",
              "      <td>Namangan shahri</td>\n",
              "      <td>7900</td>\n",
              "      <td>1862000</td>\n",
              "    </tr>\n",
              "  </tbody>\n",
              "</table>\n",
              "</div>"
            ],
            "text/plain": [
              "                            Markaz  Maydoni  Aholisi\n",
              "Hudud                                               \n",
              "Andijon viloyati    Andijon shahri     4200  1899000\n",
              "Fargona viloyati    Fargona shahri     6800  2597000\n",
              "Namangan viloyati  Namangan shahri     7900  1862000"
            ]
          },
          "metadata": {},
          "execution_count": 28
        }
      ]
    },
    {
      "cell_type": "code",
      "metadata": {
        "id": "sE_5SgBeWwJg"
      },
      "source": [
        ""
      ],
      "execution_count": null,
      "outputs": []
    },
    {
      "cell_type": "markdown",
      "metadata": {
        "id": "CGxadnXISk67"
      },
      "source": [
        "### **11-mashq.**  Yuqoridagi df dan Samarqanda va Toshkent viloyatlarining aholisi va maydonini alohida df ko'rinishida chiqaring"
      ]
    },
    {
      "cell_type": "code",
      "metadata": {
        "id": "onIZn2BSSk68",
        "colab": {
          "base_uri": "https://localhost:8080/",
          "height": 142
        },
        "outputId": "79f2b2ef-ff07-427c-cedd-0fa8d828e5b8"
      },
      "source": [
        "# Javobni shuyerga yozing\n",
        "df.loc[[\"Samarqand viloyati\", \"Toshkent viloyati\"],[\"Aholisi\",\"Maydoni\"]]"
      ],
      "execution_count": null,
      "outputs": [
        {
          "output_type": "execute_result",
          "data": {
            "text/html": [
              "<div>\n",
              "<style scoped>\n",
              "    .dataframe tbody tr th:only-of-type {\n",
              "        vertical-align: middle;\n",
              "    }\n",
              "\n",
              "    .dataframe tbody tr th {\n",
              "        vertical-align: top;\n",
              "    }\n",
              "\n",
              "    .dataframe thead th {\n",
              "        text-align: right;\n",
              "    }\n",
              "</style>\n",
              "<table border=\"1\" class=\"dataframe\">\n",
              "  <thead>\n",
              "    <tr style=\"text-align: right;\">\n",
              "      <th></th>\n",
              "      <th>Aholisi</th>\n",
              "      <th>Maydoni</th>\n",
              "    </tr>\n",
              "    <tr>\n",
              "      <th>Hudud</th>\n",
              "      <th></th>\n",
              "      <th></th>\n",
              "    </tr>\n",
              "  </thead>\n",
              "  <tbody>\n",
              "    <tr>\n",
              "      <th>Samarqand viloyati</th>\n",
              "      <td>2322000</td>\n",
              "      <td>16400</td>\n",
              "    </tr>\n",
              "    <tr>\n",
              "      <th>Toshkent viloyati</th>\n",
              "      <td>4450000</td>\n",
              "      <td>15300</td>\n",
              "    </tr>\n",
              "  </tbody>\n",
              "</table>\n",
              "</div>"
            ],
            "text/plain": [
              "                    Aholisi  Maydoni\n",
              "Hudud                               \n",
              "Samarqand viloyati  2322000    16400\n",
              "Toshkent viloyati   4450000    15300"
            ]
          },
          "metadata": {},
          "execution_count": 36
        }
      ]
    },
    {
      "cell_type": "code",
      "metadata": {
        "code_folding": [
          0
        ],
        "scrolled": false,
        "id": "NvygNZczSk68",
        "colab": {
          "base_uri": "https://localhost:8080/",
          "height": 142
        },
        "outputId": "fefcf39c-b5f4-4d2b-c971-630d0285310a"
      },
      "source": [
        "#@title **To'g'ri javob**\n",
        "df.loc[['Toshkent viloyati','Samarqand viloyati'],['Maydoni','Aholisi']]"
      ],
      "execution_count": null,
      "outputs": [
        {
          "output_type": "execute_result",
          "data": {
            "text/html": [
              "<div>\n",
              "<style scoped>\n",
              "    .dataframe tbody tr th:only-of-type {\n",
              "        vertical-align: middle;\n",
              "    }\n",
              "\n",
              "    .dataframe tbody tr th {\n",
              "        vertical-align: top;\n",
              "    }\n",
              "\n",
              "    .dataframe thead th {\n",
              "        text-align: right;\n",
              "    }\n",
              "</style>\n",
              "<table border=\"1\" class=\"dataframe\">\n",
              "  <thead>\n",
              "    <tr style=\"text-align: right;\">\n",
              "      <th></th>\n",
              "      <th>Maydoni</th>\n",
              "      <th>Aholisi</th>\n",
              "    </tr>\n",
              "    <tr>\n",
              "      <th>Hudud</th>\n",
              "      <th></th>\n",
              "      <th></th>\n",
              "    </tr>\n",
              "  </thead>\n",
              "  <tbody>\n",
              "    <tr>\n",
              "      <th>Toshkent viloyati</th>\n",
              "      <td>15300</td>\n",
              "      <td>4450000</td>\n",
              "    </tr>\n",
              "    <tr>\n",
              "      <th>Samarqand viloyati</th>\n",
              "      <td>16400</td>\n",
              "      <td>2322000</td>\n",
              "    </tr>\n",
              "  </tbody>\n",
              "</table>\n",
              "</div>"
            ],
            "text/plain": [
              "                    Maydoni  Aholisi\n",
              "Hudud                               \n",
              "Toshkent viloyati     15300  4450000\n",
              "Samarqand viloyati    16400  2322000"
            ]
          },
          "metadata": {},
          "execution_count": 35
        }
      ]
    },
    {
      "cell_type": "code",
      "metadata": {
        "id": "bGHqh2uOX2io"
      },
      "source": [
        ""
      ],
      "execution_count": null,
      "outputs": []
    },
    {
      "cell_type": "markdown",
      "metadata": {
        "id": "4qfZlNKZSk68"
      },
      "source": [
        "### **12-mashq.**  Yuqoridagi df dan yangi df_new DataFrame yarating. Yangi dataframega faqatgina aholisi 1.5mln dan kam bo'lgan hududlarni ko'chiring. "
      ]
    },
    {
      "cell_type": "code",
      "metadata": {
        "id": "PHRGT0A_Sk68",
        "colab": {
          "base_uri": "https://localhost:8080/",
          "height": 266
        },
        "outputId": "6fb52f10-15b3-4044-cc03-cbb7adad5fb5"
      },
      "source": [
        "# Javobni shuyerga yozing\n",
        "df_new = df[df.Aholisi<1500000]\n",
        "df_new"
      ],
      "execution_count": null,
      "outputs": [
        {
          "output_type": "execute_result",
          "data": {
            "text/html": [
              "<div>\n",
              "<style scoped>\n",
              "    .dataframe tbody tr th:only-of-type {\n",
              "        vertical-align: middle;\n",
              "    }\n",
              "\n",
              "    .dataframe tbody tr th {\n",
              "        vertical-align: top;\n",
              "    }\n",
              "\n",
              "    .dataframe thead th {\n",
              "        text-align: right;\n",
              "    }\n",
              "</style>\n",
              "<table border=\"1\" class=\"dataframe\">\n",
              "  <thead>\n",
              "    <tr style=\"text-align: right;\">\n",
              "      <th></th>\n",
              "      <th>Markaz</th>\n",
              "      <th>Maydoni</th>\n",
              "      <th>Aholisi</th>\n",
              "    </tr>\n",
              "    <tr>\n",
              "      <th>Hudud</th>\n",
              "      <th></th>\n",
              "      <th></th>\n",
              "      <th></th>\n",
              "    </tr>\n",
              "  </thead>\n",
              "  <tbody>\n",
              "    <tr>\n",
              "      <th>Buxoro viloyati</th>\n",
              "      <td>Buxoro shahri</td>\n",
              "      <td>39400</td>\n",
              "      <td>1384700</td>\n",
              "    </tr>\n",
              "    <tr>\n",
              "      <th>Jizzax viloyati</th>\n",
              "      <td>Jizzax shahri</td>\n",
              "      <td>20500</td>\n",
              "      <td>910500</td>\n",
              "    </tr>\n",
              "    <tr>\n",
              "      <th>Xorazm viloyati</th>\n",
              "      <td>Urganch shahri</td>\n",
              "      <td>6300</td>\n",
              "      <td>1200000</td>\n",
              "    </tr>\n",
              "    <tr>\n",
              "      <th>Navoiy viloyati</th>\n",
              "      <td>Navoiy shahri</td>\n",
              "      <td>110800</td>\n",
              "      <td>767500</td>\n",
              "    </tr>\n",
              "    <tr>\n",
              "      <th>Qoraqalpogʻiston Respublikasi</th>\n",
              "      <td>Nukus shahri</td>\n",
              "      <td>160000</td>\n",
              "      <td>1200000</td>\n",
              "    </tr>\n",
              "    <tr>\n",
              "      <th>Sirdaryo viloyati</th>\n",
              "      <td>Guliston shahri</td>\n",
              "      <td>5100</td>\n",
              "      <td>648100</td>\n",
              "    </tr>\n",
              "  </tbody>\n",
              "</table>\n",
              "</div>"
            ],
            "text/plain": [
              "                                        Markaz  Maydoni  Aholisi\n",
              "Hudud                                                           \n",
              "Buxoro viloyati                  Buxoro shahri    39400  1384700\n",
              "Jizzax viloyati                  Jizzax shahri    20500   910500\n",
              "Xorazm viloyati                 Urganch shahri     6300  1200000\n",
              "Navoiy viloyati                  Navoiy shahri   110800   767500\n",
              "Qoraqalpogʻiston Respublikasi     Nukus shahri   160000  1200000\n",
              "Sirdaryo viloyati              Guliston shahri     5100   648100"
            ]
          },
          "metadata": {},
          "execution_count": 39
        }
      ]
    },
    {
      "cell_type": "code",
      "metadata": {
        "code_folding": [
          0
        ],
        "scrolled": true,
        "id": "maTX5bf3Sk69",
        "outputId": "771ef830-4afa-4429-c0e9-be3c8419607c"
      },
      "source": [
        "#@title **To'g'ri javob**\n",
        "df_new = df[df.Aholisi<1_500_000]\n",
        "df_new"
      ],
      "execution_count": null,
      "outputs": [
        {
          "data": {
            "text/html": [
              "<div>\n",
              "<style scoped>\n",
              "    .dataframe tbody tr th:only-of-type {\n",
              "        vertical-align: middle;\n",
              "    }\n",
              "\n",
              "    .dataframe tbody tr th {\n",
              "        vertical-align: top;\n",
              "    }\n",
              "\n",
              "    .dataframe thead th {\n",
              "        text-align: right;\n",
              "    }\n",
              "</style>\n",
              "<table border=\"1\" class=\"dataframe\">\n",
              "  <thead>\n",
              "    <tr style=\"text-align: right;\">\n",
              "      <th></th>\n",
              "      <th>Markaz</th>\n",
              "      <th>Maydoni</th>\n",
              "      <th>Aholisi</th>\n",
              "    </tr>\n",
              "    <tr>\n",
              "      <th>Hudud</th>\n",
              "      <th></th>\n",
              "      <th></th>\n",
              "      <th></th>\n",
              "    </tr>\n",
              "  </thead>\n",
              "  <tbody>\n",
              "    <tr>\n",
              "      <th>Buxoro viloyati</th>\n",
              "      <td>Buxoro shahri</td>\n",
              "      <td>39400</td>\n",
              "      <td>1384700</td>\n",
              "    </tr>\n",
              "    <tr>\n",
              "      <th>Jizzax viloyati</th>\n",
              "      <td>Jizzax shahri</td>\n",
              "      <td>20500</td>\n",
              "      <td>910500</td>\n",
              "    </tr>\n",
              "    <tr>\n",
              "      <th>Xorazm viloyati</th>\n",
              "      <td>Urganch shahri</td>\n",
              "      <td>6300</td>\n",
              "      <td>1200000</td>\n",
              "    </tr>\n",
              "    <tr>\n",
              "      <th>Navoiy viloyati</th>\n",
              "      <td>Navoiy shahri</td>\n",
              "      <td>110800</td>\n",
              "      <td>767500</td>\n",
              "    </tr>\n",
              "    <tr>\n",
              "      <th>Qoraqalpogʻiston Respublikasi</th>\n",
              "      <td>Nukus shahri</td>\n",
              "      <td>160000</td>\n",
              "      <td>1200000</td>\n",
              "    </tr>\n",
              "    <tr>\n",
              "      <th>Sirdaryo viloyati</th>\n",
              "      <td>Guliston shahri</td>\n",
              "      <td>5100</td>\n",
              "      <td>648100</td>\n",
              "    </tr>\n",
              "  </tbody>\n",
              "</table>\n",
              "</div>"
            ],
            "text/plain": [
              "                                        Markaz  Maydoni  Aholisi\n",
              "Hudud                                                           \n",
              "Buxoro viloyati                  Buxoro shahri    39400  1384700\n",
              "Jizzax viloyati                  Jizzax shahri    20500   910500\n",
              "Xorazm viloyati                 Urganch shahri     6300  1200000\n",
              "Navoiy viloyati                  Navoiy shahri   110800   767500\n",
              "Qoraqalpogʻiston Respublikasi     Nukus shahri   160000  1200000\n",
              "Sirdaryo viloyati              Guliston shahri     5100   648100"
            ]
          },
          "execution_count": 78,
          "metadata": {},
          "output_type": "execute_result"
        }
      ]
    },
    {
      "cell_type": "code",
      "metadata": {
        "id": "Nq9q_vZ2dkqZ"
      },
      "source": [
        ""
      ],
      "execution_count": null,
      "outputs": []
    },
    {
      "cell_type": "markdown",
      "metadata": {
        "id": "GyHQyqWwSk69"
      },
      "source": [
        "### **13-mashq.**  Yangi df qatorlari orasida Navoiy, Namangan va Xorazm viloyatlari borligini tekshiring"
      ]
    },
    {
      "cell_type": "code",
      "metadata": {
        "id": "3nEt8v14Sk69",
        "colab": {
          "base_uri": "https://localhost:8080/"
        },
        "outputId": "1df79886-f809-44ac-ecd3-112ffc32f6d9"
      },
      "source": [
        "# Javobni shuyerga yozing\n",
        "pd.Index(['Navoiy viloyati', 'Namangan viloyati', 'Xorazm viloyati']).isin(df_new.index)"
      ],
      "execution_count": null,
      "outputs": [
        {
          "output_type": "execute_result",
          "data": {
            "text/plain": [
              "array([ True, False,  True])"
            ]
          },
          "metadata": {},
          "execution_count": 41
        }
      ]
    },
    {
      "cell_type": "code",
      "metadata": {
        "code_folding": [
          0
        ],
        "scrolled": true,
        "id": "y6HCGfClSk69",
        "outputId": "40633947-18ef-4109-cbf5-5cf6e53a9cc6"
      },
      "source": [
        "#@title **To'g'ri javob**\n",
        "pd.Index(['Navoiy viloyati','Namangan viloyati','Xorazm viloyati']).isin(df_new.index)"
      ],
      "execution_count": null,
      "outputs": [
        {
          "data": {
            "text/plain": [
              "array([ True, False,  True])"
            ]
          },
          "execution_count": 81,
          "metadata": {},
          "output_type": "execute_result"
        }
      ]
    },
    {
      "cell_type": "code",
      "metadata": {
        "id": "75WClCwxd5cJ"
      },
      "source": [
        ""
      ],
      "execution_count": null,
      "outputs": []
    },
    {
      "cell_type": "markdown",
      "metadata": {
        "id": "Fd6pgN07Sk6-"
      },
      "source": [
        "### **14-mashq.**  Aholisi 1milliondan ko'p, lekin maydoni 10000kv.km dan kam hududlarni chiqaring"
      ]
    },
    {
      "cell_type": "code",
      "metadata": {
        "id": "kShaaJIzSk6-",
        "colab": {
          "base_uri": "https://localhost:8080/",
          "height": 204
        },
        "outputId": "8a36dfca-5bad-446f-8fba-122ce85654e5"
      },
      "source": [
        "# Javobni shuyerga yozing\n",
        "df[(df.Aholisi>1_000_000) & (df.Maydoni<10_000)]"
      ],
      "execution_count": null,
      "outputs": [
        {
          "output_type": "execute_result",
          "data": {
            "text/html": [
              "<div>\n",
              "<style scoped>\n",
              "    .dataframe tbody tr th:only-of-type {\n",
              "        vertical-align: middle;\n",
              "    }\n",
              "\n",
              "    .dataframe tbody tr th {\n",
              "        vertical-align: top;\n",
              "    }\n",
              "\n",
              "    .dataframe thead th {\n",
              "        text-align: right;\n",
              "    }\n",
              "</style>\n",
              "<table border=\"1\" class=\"dataframe\">\n",
              "  <thead>\n",
              "    <tr style=\"text-align: right;\">\n",
              "      <th></th>\n",
              "      <th>Markaz</th>\n",
              "      <th>Maydoni</th>\n",
              "      <th>Aholisi</th>\n",
              "    </tr>\n",
              "    <tr>\n",
              "      <th>Hudud</th>\n",
              "      <th></th>\n",
              "      <th></th>\n",
              "      <th></th>\n",
              "    </tr>\n",
              "  </thead>\n",
              "  <tbody>\n",
              "    <tr>\n",
              "      <th>Andijon viloyati</th>\n",
              "      <td>Andijon shahri</td>\n",
              "      <td>4200</td>\n",
              "      <td>1899000</td>\n",
              "    </tr>\n",
              "    <tr>\n",
              "      <th>Fargona viloyati</th>\n",
              "      <td>Fargona shahri</td>\n",
              "      <td>6800</td>\n",
              "      <td>2597000</td>\n",
              "    </tr>\n",
              "    <tr>\n",
              "      <th>Xorazm viloyati</th>\n",
              "      <td>Urganch shahri</td>\n",
              "      <td>6300</td>\n",
              "      <td>1200000</td>\n",
              "    </tr>\n",
              "    <tr>\n",
              "      <th>Namangan viloyati</th>\n",
              "      <td>Namangan shahri</td>\n",
              "      <td>7900</td>\n",
              "      <td>1862000</td>\n",
              "    </tr>\n",
              "  </tbody>\n",
              "</table>\n",
              "</div>"
            ],
            "text/plain": [
              "                            Markaz  Maydoni  Aholisi\n",
              "Hudud                                               \n",
              "Andijon viloyati    Andijon shahri     4200  1899000\n",
              "Fargona viloyati    Fargona shahri     6800  2597000\n",
              "Xorazm viloyati     Urganch shahri     6300  1200000\n",
              "Namangan viloyati  Namangan shahri     7900  1862000"
            ]
          },
          "metadata": {},
          "execution_count": 43
        }
      ]
    },
    {
      "cell_type": "code",
      "metadata": {
        "code_folding": [
          0
        ],
        "scrolled": false,
        "id": "jONN20uuSk6-",
        "outputId": "fef69676-d1ac-4be5-fab9-cadab15bc31c"
      },
      "source": [
        "#@title **To'g'ri javob**\n",
        "df[(df.Aholisi>1_000_000) & (df.Maydoni<10000)]"
      ],
      "execution_count": null,
      "outputs": [
        {
          "data": {
            "text/html": [
              "<div>\n",
              "<style scoped>\n",
              "    .dataframe tbody tr th:only-of-type {\n",
              "        vertical-align: middle;\n",
              "    }\n",
              "\n",
              "    .dataframe tbody tr th {\n",
              "        vertical-align: top;\n",
              "    }\n",
              "\n",
              "    .dataframe thead th {\n",
              "        text-align: right;\n",
              "    }\n",
              "</style>\n",
              "<table border=\"1\" class=\"dataframe\">\n",
              "  <thead>\n",
              "    <tr style=\"text-align: right;\">\n",
              "      <th></th>\n",
              "      <th>Markaz</th>\n",
              "      <th>Maydoni</th>\n",
              "      <th>Aholisi</th>\n",
              "    </tr>\n",
              "    <tr>\n",
              "      <th>Hudud</th>\n",
              "      <th></th>\n",
              "      <th></th>\n",
              "      <th></th>\n",
              "    </tr>\n",
              "  </thead>\n",
              "  <tbody>\n",
              "    <tr>\n",
              "      <th>Andijon viloyati</th>\n",
              "      <td>Andijon shahri</td>\n",
              "      <td>4200</td>\n",
              "      <td>1899000</td>\n",
              "    </tr>\n",
              "    <tr>\n",
              "      <th>Fargona viloyati</th>\n",
              "      <td>Fargona shahri</td>\n",
              "      <td>6800</td>\n",
              "      <td>2597000</td>\n",
              "    </tr>\n",
              "    <tr>\n",
              "      <th>Xorazm viloyati</th>\n",
              "      <td>Urganch shahri</td>\n",
              "      <td>6300</td>\n",
              "      <td>1200000</td>\n",
              "    </tr>\n",
              "    <tr>\n",
              "      <th>Namangan viloyati</th>\n",
              "      <td>Namangan shahri</td>\n",
              "      <td>7900</td>\n",
              "      <td>1862000</td>\n",
              "    </tr>\n",
              "  </tbody>\n",
              "</table>\n",
              "</div>"
            ],
            "text/plain": [
              "                            Markaz  Maydoni  Aholisi\n",
              "Hudud                                               \n",
              "Andijon viloyati    Andijon shahri     4200  1899000\n",
              "Fargona viloyati    Fargona shahri     6800  2597000\n",
              "Xorazm viloyati     Urganch shahri     6300  1200000\n",
              "Namangan viloyati  Namangan shahri     7900  1862000"
            ]
          },
          "execution_count": 96,
          "metadata": {},
          "output_type": "execute_result"
        }
      ]
    },
    {
      "cell_type": "code",
      "metadata": {
        "id": "YnujXWineoIo"
      },
      "source": [
        ""
      ],
      "execution_count": null,
      "outputs": []
    },
    {
      "cell_type": "markdown",
      "metadata": {
        "id": "nDeLMwooSk6-"
      },
      "source": [
        "### **15-mashq.**  Aholisi 1milliondan kam, lekin maydoni 10000kv.km dan ko'p hududlarni chiqaring"
      ]
    },
    {
      "cell_type": "code",
      "metadata": {
        "id": "PSXSdfyPSk6-",
        "colab": {
          "base_uri": "https://localhost:8080/",
          "height": 142
        },
        "outputId": "4fd512f9-6bfe-4815-88ff-ae1d01355760"
      },
      "source": [
        "# Javobni shuyerga yozing\n",
        "df[(df.Aholisi<1_000_000) & (df.Maydoni>10_000)]"
      ],
      "execution_count": null,
      "outputs": [
        {
          "output_type": "execute_result",
          "data": {
            "text/html": [
              "<div>\n",
              "<style scoped>\n",
              "    .dataframe tbody tr th:only-of-type {\n",
              "        vertical-align: middle;\n",
              "    }\n",
              "\n",
              "    .dataframe tbody tr th {\n",
              "        vertical-align: top;\n",
              "    }\n",
              "\n",
              "    .dataframe thead th {\n",
              "        text-align: right;\n",
              "    }\n",
              "</style>\n",
              "<table border=\"1\" class=\"dataframe\">\n",
              "  <thead>\n",
              "    <tr style=\"text-align: right;\">\n",
              "      <th></th>\n",
              "      <th>Markaz</th>\n",
              "      <th>Maydoni</th>\n",
              "      <th>Aholisi</th>\n",
              "    </tr>\n",
              "    <tr>\n",
              "      <th>Hudud</th>\n",
              "      <th></th>\n",
              "      <th></th>\n",
              "      <th></th>\n",
              "    </tr>\n",
              "  </thead>\n",
              "  <tbody>\n",
              "    <tr>\n",
              "      <th>Jizzax viloyati</th>\n",
              "      <td>Jizzax shahri</td>\n",
              "      <td>20500</td>\n",
              "      <td>910500</td>\n",
              "    </tr>\n",
              "    <tr>\n",
              "      <th>Navoiy viloyati</th>\n",
              "      <td>Navoiy shahri</td>\n",
              "      <td>110800</td>\n",
              "      <td>767500</td>\n",
              "    </tr>\n",
              "  </tbody>\n",
              "</table>\n",
              "</div>"
            ],
            "text/plain": [
              "                        Markaz  Maydoni  Aholisi\n",
              "Hudud                                           \n",
              "Jizzax viloyati  Jizzax shahri    20500   910500\n",
              "Navoiy viloyati  Navoiy shahri   110800   767500"
            ]
          },
          "metadata": {},
          "execution_count": 44
        }
      ]
    },
    {
      "cell_type": "code",
      "metadata": {
        "code_folding": [
          0
        ],
        "scrolled": false,
        "id": "P7g2lIu5Sk6-",
        "outputId": "8e468f05-41d7-41c3-c92a-e4e2b4b4a571"
      },
      "source": [
        "#@title **To'g'ri javob**\n",
        "df[(df.Aholisi<1_000_000) & (df.Maydoni>10000)]"
      ],
      "execution_count": null,
      "outputs": [
        {
          "data": {
            "text/html": [
              "<div>\n",
              "<style scoped>\n",
              "    .dataframe tbody tr th:only-of-type {\n",
              "        vertical-align: middle;\n",
              "    }\n",
              "\n",
              "    .dataframe tbody tr th {\n",
              "        vertical-align: top;\n",
              "    }\n",
              "\n",
              "    .dataframe thead th {\n",
              "        text-align: right;\n",
              "    }\n",
              "</style>\n",
              "<table border=\"1\" class=\"dataframe\">\n",
              "  <thead>\n",
              "    <tr style=\"text-align: right;\">\n",
              "      <th></th>\n",
              "      <th>Markaz</th>\n",
              "      <th>Maydoni</th>\n",
              "      <th>Aholisi</th>\n",
              "    </tr>\n",
              "    <tr>\n",
              "      <th>Hudud</th>\n",
              "      <th></th>\n",
              "      <th></th>\n",
              "      <th></th>\n",
              "    </tr>\n",
              "  </thead>\n",
              "  <tbody>\n",
              "    <tr>\n",
              "      <th>Jizzax viloyati</th>\n",
              "      <td>Jizzax shahri</td>\n",
              "      <td>20500</td>\n",
              "      <td>910500</td>\n",
              "    </tr>\n",
              "    <tr>\n",
              "      <th>Navoiy viloyati</th>\n",
              "      <td>Navoiy shahri</td>\n",
              "      <td>110800</td>\n",
              "      <td>767500</td>\n",
              "    </tr>\n",
              "  </tbody>\n",
              "</table>\n",
              "</div>"
            ],
            "text/plain": [
              "                        Markaz  Maydoni  Aholisi\n",
              "Hudud                                           \n",
              "Jizzax viloyati  Jizzax shahri    20500   910500\n",
              "Navoiy viloyati  Navoiy shahri   110800   767500"
            ]
          },
          "execution_count": 97,
          "metadata": {},
          "output_type": "execute_result"
        }
      ]
    },
    {
      "cell_type": "code",
      "metadata": {
        "id": "XXs9vzl2fDUR"
      },
      "source": [
        ""
      ],
      "execution_count": null,
      "outputs": []
    },
    {
      "cell_type": "markdown",
      "metadata": {
        "id": "OLs4MjlWSk6_"
      },
      "source": [
        "### **16-mashq.**  Yuqoridagi df dan `Markaz` ustunini tashlab yuboring"
      ]
    },
    {
      "cell_type": "code",
      "metadata": {
        "id": "WnxGXkjKSk6_",
        "colab": {
          "base_uri": "https://localhost:8080/",
          "height": 483
        },
        "outputId": "62d08e45-5a9d-4390-84f3-46484828bb79"
      },
      "source": [
        "# Javobni shuyerga yozing\n",
        "df.drop(\"Markaz\", axis=1)"
      ],
      "execution_count": null,
      "outputs": [
        {
          "output_type": "execute_result",
          "data": {
            "text/html": [
              "<div>\n",
              "<style scoped>\n",
              "    .dataframe tbody tr th:only-of-type {\n",
              "        vertical-align: middle;\n",
              "    }\n",
              "\n",
              "    .dataframe tbody tr th {\n",
              "        vertical-align: top;\n",
              "    }\n",
              "\n",
              "    .dataframe thead th {\n",
              "        text-align: right;\n",
              "    }\n",
              "</style>\n",
              "<table border=\"1\" class=\"dataframe\">\n",
              "  <thead>\n",
              "    <tr style=\"text-align: right;\">\n",
              "      <th></th>\n",
              "      <th>Maydoni</th>\n",
              "      <th>Aholisi</th>\n",
              "    </tr>\n",
              "    <tr>\n",
              "      <th>Hudud</th>\n",
              "      <th></th>\n",
              "      <th></th>\n",
              "    </tr>\n",
              "  </thead>\n",
              "  <tbody>\n",
              "    <tr>\n",
              "      <th>Andijon viloyati</th>\n",
              "      <td>4200</td>\n",
              "      <td>1899000</td>\n",
              "    </tr>\n",
              "    <tr>\n",
              "      <th>Buxoro viloyati</th>\n",
              "      <td>39400</td>\n",
              "      <td>1384700</td>\n",
              "    </tr>\n",
              "    <tr>\n",
              "      <th>Fargona viloyati</th>\n",
              "      <td>6800</td>\n",
              "      <td>2597000</td>\n",
              "    </tr>\n",
              "    <tr>\n",
              "      <th>Jizzax viloyati</th>\n",
              "      <td>20500</td>\n",
              "      <td>910500</td>\n",
              "    </tr>\n",
              "    <tr>\n",
              "      <th>Xorazm viloyati</th>\n",
              "      <td>6300</td>\n",
              "      <td>1200000</td>\n",
              "    </tr>\n",
              "    <tr>\n",
              "      <th>Namangan viloyati</th>\n",
              "      <td>7900</td>\n",
              "      <td>1862000</td>\n",
              "    </tr>\n",
              "    <tr>\n",
              "      <th>Navoiy viloyati</th>\n",
              "      <td>110800</td>\n",
              "      <td>767500</td>\n",
              "    </tr>\n",
              "    <tr>\n",
              "      <th>Qashqadaryo viloyati</th>\n",
              "      <td>28400</td>\n",
              "      <td>2029000</td>\n",
              "    </tr>\n",
              "    <tr>\n",
              "      <th>Qoraqalpogʻiston Respublikasi</th>\n",
              "      <td>160000</td>\n",
              "      <td>1200000</td>\n",
              "    </tr>\n",
              "    <tr>\n",
              "      <th>Samarqand viloyati</th>\n",
              "      <td>16400</td>\n",
              "      <td>2322000</td>\n",
              "    </tr>\n",
              "    <tr>\n",
              "      <th>Sirdaryo viloyati</th>\n",
              "      <td>5100</td>\n",
              "      <td>648100</td>\n",
              "    </tr>\n",
              "    <tr>\n",
              "      <th>Surxondaryo viloyati</th>\n",
              "      <td>20800</td>\n",
              "      <td>1676000</td>\n",
              "    </tr>\n",
              "    <tr>\n",
              "      <th>Toshkent viloyati</th>\n",
              "      <td>15300</td>\n",
              "      <td>4450000</td>\n",
              "    </tr>\n",
              "  </tbody>\n",
              "</table>\n",
              "</div>"
            ],
            "text/plain": [
              "                               Maydoni  Aholisi\n",
              "Hudud                                          \n",
              "Andijon viloyati                  4200  1899000\n",
              "Buxoro viloyati                  39400  1384700\n",
              "Fargona viloyati                  6800  2597000\n",
              "Jizzax viloyati                  20500   910500\n",
              "Xorazm viloyati                   6300  1200000\n",
              "Namangan viloyati                 7900  1862000\n",
              "Navoiy viloyati                 110800   767500\n",
              "Qashqadaryo viloyati             28400  2029000\n",
              "Qoraqalpogʻiston Respublikasi   160000  1200000\n",
              "Samarqand viloyati               16400  2322000\n",
              "Sirdaryo viloyati                 5100   648100\n",
              "Surxondaryo viloyati             20800  1676000\n",
              "Toshkent viloyati                15300  4450000"
            ]
          },
          "metadata": {},
          "execution_count": 45
        }
      ]
    },
    {
      "cell_type": "code",
      "metadata": {
        "code_folding": [
          0
        ],
        "scrolled": true,
        "id": "opqp8UcaSk6_",
        "outputId": "c7dff865-f5b0-4e0d-9789-4f9df465203a"
      },
      "source": [
        "#@title **To'g'ri javob**\n",
        "df.drop(['Markaz'], axis=1)"
      ],
      "execution_count": null,
      "outputs": [
        {
          "data": {
            "text/html": [
              "<div>\n",
              "<style scoped>\n",
              "    .dataframe tbody tr th:only-of-type {\n",
              "        vertical-align: middle;\n",
              "    }\n",
              "\n",
              "    .dataframe tbody tr th {\n",
              "        vertical-align: top;\n",
              "    }\n",
              "\n",
              "    .dataframe thead th {\n",
              "        text-align: right;\n",
              "    }\n",
              "</style>\n",
              "<table border=\"1\" class=\"dataframe\">\n",
              "  <thead>\n",
              "    <tr style=\"text-align: right;\">\n",
              "      <th></th>\n",
              "      <th>Maydoni</th>\n",
              "      <th>Aholisi</th>\n",
              "    </tr>\n",
              "    <tr>\n",
              "      <th>Hudud</th>\n",
              "      <th></th>\n",
              "      <th></th>\n",
              "    </tr>\n",
              "  </thead>\n",
              "  <tbody>\n",
              "    <tr>\n",
              "      <th>Andijon viloyati</th>\n",
              "      <td>4200</td>\n",
              "      <td>1899000</td>\n",
              "    </tr>\n",
              "    <tr>\n",
              "      <th>Buxoro viloyati</th>\n",
              "      <td>39400</td>\n",
              "      <td>1384700</td>\n",
              "    </tr>\n",
              "    <tr>\n",
              "      <th>Fargona viloyati</th>\n",
              "      <td>6800</td>\n",
              "      <td>2597000</td>\n",
              "    </tr>\n",
              "    <tr>\n",
              "      <th>Jizzax viloyati</th>\n",
              "      <td>20500</td>\n",
              "      <td>910500</td>\n",
              "    </tr>\n",
              "    <tr>\n",
              "      <th>Xorazm viloyati</th>\n",
              "      <td>6300</td>\n",
              "      <td>1200000</td>\n",
              "    </tr>\n",
              "    <tr>\n",
              "      <th>Namangan viloyati</th>\n",
              "      <td>7900</td>\n",
              "      <td>1862000</td>\n",
              "    </tr>\n",
              "    <tr>\n",
              "      <th>Navoiy viloyati</th>\n",
              "      <td>110800</td>\n",
              "      <td>767500</td>\n",
              "    </tr>\n",
              "    <tr>\n",
              "      <th>Qashqadaryo viloyati</th>\n",
              "      <td>28400</td>\n",
              "      <td>2029000</td>\n",
              "    </tr>\n",
              "    <tr>\n",
              "      <th>Qoraqalpogʻiston Respublikasi</th>\n",
              "      <td>160000</td>\n",
              "      <td>1200000</td>\n",
              "    </tr>\n",
              "    <tr>\n",
              "      <th>Samarqand viloyati</th>\n",
              "      <td>16400</td>\n",
              "      <td>2322000</td>\n",
              "    </tr>\n",
              "    <tr>\n",
              "      <th>Sirdaryo viloyati</th>\n",
              "      <td>5100</td>\n",
              "      <td>648100</td>\n",
              "    </tr>\n",
              "    <tr>\n",
              "      <th>Surxondaryo viloyati</th>\n",
              "      <td>20800</td>\n",
              "      <td>1676000</td>\n",
              "    </tr>\n",
              "    <tr>\n",
              "      <th>Toshkent viloyati</th>\n",
              "      <td>15300</td>\n",
              "      <td>4450000</td>\n",
              "    </tr>\n",
              "  </tbody>\n",
              "</table>\n",
              "</div>"
            ],
            "text/plain": [
              "                               Maydoni  Aholisi\n",
              "Hudud                                          \n",
              "Andijon viloyati                  4200  1899000\n",
              "Buxoro viloyati                  39400  1384700\n",
              "Fargona viloyati                  6800  2597000\n",
              "Jizzax viloyati                  20500   910500\n",
              "Xorazm viloyati                   6300  1200000\n",
              "Namangan viloyati                 7900  1862000\n",
              "Navoiy viloyati                 110800   767500\n",
              "Qashqadaryo viloyati             28400  2029000\n",
              "Qoraqalpogʻiston Respublikasi   160000  1200000\n",
              "Samarqand viloyati               16400  2322000\n",
              "Sirdaryo viloyati                 5100   648100\n",
              "Surxondaryo viloyati             20800  1676000\n",
              "Toshkent viloyati                15300  4450000"
            ]
          },
          "execution_count": 99,
          "metadata": {},
          "output_type": "execute_result"
        }
      ]
    },
    {
      "cell_type": "code",
      "metadata": {
        "id": "quLILpF3fXbZ"
      },
      "source": [
        ""
      ],
      "execution_count": null,
      "outputs": []
    },
    {
      "cell_type": "markdown",
      "metadata": {
        "id": "EXa6xhsiSk6_"
      },
      "source": [
        "### **17-mashq.**  Yuqoridagi df dan Sirdaryo viloyati aholisini chiqaring"
      ]
    },
    {
      "cell_type": "code",
      "metadata": {
        "id": "nCLak_dySk6_",
        "colab": {
          "base_uri": "https://localhost:8080/"
        },
        "outputId": "60f52be6-cd35-4c79-db93-b02afb912b47"
      },
      "source": [
        "# Javobni shuyerga yozing\n",
        "df.loc[[\"Sirdaryo viloyati\"]]\n",
        "df.at[\"Sirdaryo viloyati\", \"Aholisi\"]"
      ],
      "execution_count": null,
      "outputs": [
        {
          "output_type": "execute_result",
          "data": {
            "text/plain": [
              "648100"
            ]
          },
          "metadata": {},
          "execution_count": 51
        }
      ]
    },
    {
      "cell_type": "code",
      "metadata": {
        "code_folding": [
          0
        ],
        "scrolled": false,
        "id": "Tm6twS_nSk7A",
        "outputId": "f269035a-db8a-4887-e9a7-256a10de27b4"
      },
      "source": [
        "#@title **To'g'ri javob**\n",
        "df.at['Sirdaryo viloyati','Aholisi']"
      ],
      "execution_count": null,
      "outputs": [
        {
          "data": {
            "text/plain": [
              "648100"
            ]
          },
          "execution_count": 102,
          "metadata": {},
          "output_type": "execute_result"
        }
      ]
    },
    {
      "cell_type": "code",
      "metadata": {
        "id": "iStzVaNhfhCw"
      },
      "source": [
        ""
      ],
      "execution_count": null,
      "outputs": []
    },
    {
      "cell_type": "markdown",
      "metadata": {
        "id": "BVHQKEy8Sk7A"
      },
      "source": [
        "### **18-mashq.**  Yuqoridagi df dan Buxoro viloyati maydonini chiqaring"
      ]
    },
    {
      "cell_type": "code",
      "metadata": {
        "id": "4IFs8UjBSk7A",
        "colab": {
          "base_uri": "https://localhost:8080/"
        },
        "outputId": "714623ee-8719-42d4-cefa-ebcdedf66852"
      },
      "source": [
        "# Javobni shuyerga yozing\n",
        "df.at[\"Buxoro viloyati\", \"Maydoni\"]"
      ],
      "execution_count": null,
      "outputs": [
        {
          "output_type": "execute_result",
          "data": {
            "text/plain": [
              "39400"
            ]
          },
          "metadata": {},
          "execution_count": 52
        }
      ]
    },
    {
      "cell_type": "code",
      "metadata": {
        "code_folding": [
          0
        ],
        "scrolled": true,
        "id": "qIdepfmZSk7A",
        "outputId": "731922d8-af32-442a-a2f3-ab51cdf8d818"
      },
      "source": [
        "#@title **To'g'ri javob**\n",
        "df.at['Buxoro viloyati','Maydoni']"
      ],
      "execution_count": null,
      "outputs": [
        {
          "data": {
            "text/plain": [
              "39400"
            ]
          },
          "execution_count": 103,
          "metadata": {},
          "output_type": "execute_result"
        }
      ]
    },
    {
      "cell_type": "code",
      "metadata": {
        "id": "H-AHubkmgDw_"
      },
      "source": [
        ""
      ],
      "execution_count": null,
      "outputs": []
    },
    {
      "cell_type": "markdown",
      "metadata": {
        "id": "SVbjDUFGSk7B"
      },
      "source": [
        "### **19-mashq.**  Yuqoridagi df dan Toshkent viloyati maydoni O'zbekiston Respublikasining necha fozini tashkil qilishini toping"
      ]
    },
    {
      "cell_type": "code",
      "metadata": {
        "id": "MnLvYVW8Sk7B",
        "colab": {
          "base_uri": "https://localhost:8080/"
        },
        "outputId": "25643bee-8455-4647-eac5-3234df6f4c62"
      },
      "source": [
        "# Javobni shuyerga yozing\n",
        "tosh = df.at['Toshkent viloyati','Maydoni']\n",
        "uzb = sum(df.Maydoni)\n",
        "print(f\"Toshkent viloyati maydoni: {tosh} kv.km\")\n",
        "print(f\"O'zbekiston Respublikasi maydoni: {uzb} kv.km\")\n",
        "print(f\"Toshkent viloyati maydoni O'zbekiston respublikasining {round(tosh/uzb*100)}% ni tashkil qiladi\")"
      ],
      "execution_count": null,
      "outputs": [
        {
          "output_type": "stream",
          "name": "stdout",
          "text": [
            "Toshkent viloyati maydoni: 15300 kv.km\n",
            "O'zbekiston Respublikasi maydoni: 441900 kv.km\n",
            "Toshkent viloyati maydoni O'zbekiston respublikasining 3% ni tashkil qiladi\n"
          ]
        }
      ]
    },
    {
      "cell_type": "code",
      "metadata": {
        "code_folding": [
          0
        ],
        "scrolled": false,
        "id": "gzS95uCVSk7B",
        "colab": {
          "base_uri": "https://localhost:8080/"
        },
        "outputId": "02126c37-f71e-451a-b848-a875ae7bc4c7"
      },
      "source": [
        "#@title **To'g'ri javob**\n",
        "tosh_area = df.at['Toshkent viloyati','Maydoni']\n",
        "uzb_area = sum(df.Maydoni) # yoki\n",
        "# uzb_area = df.Maydoni.sum()\n",
        "print(f\"Toshkent viloyati maydoni: {tosh_area} kv.km\")\n",
        "print(f\"O'zbekiston Respublikasi maydoni: {uzb_area} kv.km\")\n",
        "print(f\"Toshkent viloyati maydoni O'zbekiston respublikasining {round(tosh_area/uzb_area*100)}% ni tashkil qiladi\")"
      ],
      "execution_count": null,
      "outputs": [
        {
          "output_type": "stream",
          "name": "stdout",
          "text": [
            "Toshkent viloyati maydoni: 15300 kv.km\n",
            "O'zbekiston Respublikasi maydoni: 441900 kv.km\n",
            "Toshkent viloyati maydoni O'zbekiston respublikasining 3% ni tashkil qiladi\n"
          ]
        }
      ]
    },
    {
      "cell_type": "code",
      "metadata": {
        "id": "m9RTC43sgPbB"
      },
      "source": [
        ""
      ],
      "execution_count": null,
      "outputs": []
    },
    {
      "cell_type": "markdown",
      "metadata": {
        "id": "NKS1Pl2BSk7B"
      },
      "source": [
        "### **20-mashq.**  Yuqoridagi df dan Toshkent viloyati aholisi O'zbekiston Respublikasining necha fozini tashkil qilishini toping"
      ]
    },
    {
      "cell_type": "code",
      "metadata": {
        "id": "EXQY4rxpSk7B",
        "colab": {
          "base_uri": "https://localhost:8080/"
        },
        "outputId": "9e6b2cd9-06db-4a52-9064-3ff7b6018c8f"
      },
      "source": [
        "# Javobni shuyerga yozing\n",
        "tosh = df.at['Toshkent viloyati','Aholisi']\n",
        "uzb = sum(df.Aholisi)\n",
        "print(f\"Toshkent viloyati aholisi: {tosh_area} kishi\")\n",
        "print(f\"O'zbekiston Respublikasi aholisi: {uzb_area} kishi\")\n",
        "print(f\"Toshkent viloyati aholisi O'zbekiston respublikasining {round(tosh_area/uzb_area*100)}% ni tashkil qiladi\")"
      ],
      "execution_count": null,
      "outputs": [
        {
          "output_type": "stream",
          "name": "stdout",
          "text": [
            "Toshkent viloyati aholisi: 15300 kishi\n",
            "O'zbekiston Respublikasi aholisi: 441900 kishi\n",
            "Toshkent viloyati aholisi O'zbekiston respublikasining 3% ni tashkil qiladi\n"
          ]
        }
      ]
    },
    {
      "cell_type": "code",
      "metadata": {
        "code_folding": [
          0
        ],
        "scrolled": false,
        "id": "QyvaVwM6Sk7B",
        "outputId": "2cc6eab8-9944-4820-9ae1-6d2d0d4f96a4"
      },
      "source": [
        "#@title **To'g'ri javob**\n",
        "tosh_area = df.at['Toshkent viloyati','Aholisi']\n",
        "uzb_area = sum(df.Aholisi) # yoki\n",
        "# uzb_area = df.Maydoni.sum()\n",
        "print(f\"Toshkent viloyati aholisi: {tosh_area} kishi\")\n",
        "print(f\"O'zbekiston Respublikasi aholisi: {uzb_area} kishi\")\n",
        "print(f\"Toshkent viloyati aholisi O'zbekiston respublikasining {round(tosh_area/uzb_area*100)}% ni tashkil qiladi\")"
      ],
      "execution_count": null,
      "outputs": [
        {
          "name": "stdout",
          "output_type": "stream",
          "text": [
            "Toshkent viloyati aholisi: 4450000 kishi\n",
            "O'zbekiston Respublikasi aholisi: 22945800 kishi\n",
            "Toshkent viloyati aholisi O'zbekiston respublikasining 19% ni tashkil qiladi\n"
          ]
        }
      ]
    },
    {
      "cell_type": "code",
      "metadata": {
        "id": "AbTkWlNthmEi"
      },
      "source": [
        ""
      ],
      "execution_count": null,
      "outputs": []
    }
  ]
}